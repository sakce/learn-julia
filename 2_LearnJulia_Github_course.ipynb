{
 "cells": [
  {
   "cell_type": "markdown",
   "metadata": {
    "ExecuteTime": {
     "end_time": "2020-05-15T11:36:43.251000+02:00",
     "start_time": "2020-05-15T09:36:43.146Z"
    }
   },
   "source": [
    "# Basic Intro + Arrays and Matrices\n",
    "\n",
    "https://ucidatascienceinitiative.github.io/IntroToJulia/"
   ]
  },
  {
   "cell_type": "markdown",
   "metadata": {
    "heading_collapsed": true
   },
   "source": [
    "## Intro"
   ]
  },
  {
   "cell_type": "code",
   "execution_count": 1,
   "metadata": {
    "ExecuteTime": {
     "end_time": "2020-05-15T11:36:36.118000+02:00",
     "start_time": "2020-05-15T09:36:33.375Z"
    },
    "hidden": true,
    "scrolled": false
   },
   "outputs": [
    {
     "name": "stdout",
     "output_type": "stream",
     "text": [
      "search: \u001b[0m\u001b[1mb\u001b[22m\u001b[0m\u001b[1mr\u001b[22m\u001b[0m\u001b[1mo\u001b[22m\u001b[0m\u001b[1ma\u001b[22m\u001b[0m\u001b[1md\u001b[22m\u001b[0m\u001b[1mc\u001b[22m\u001b[0m\u001b[1ma\u001b[22m\u001b[0m\u001b[1ms\u001b[22m\u001b[0m\u001b[1mt\u001b[22m \u001b[0m\u001b[1mb\u001b[22m\u001b[0m\u001b[1mr\u001b[22m\u001b[0m\u001b[1mo\u001b[22m\u001b[0m\u001b[1ma\u001b[22m\u001b[0m\u001b[1md\u001b[22m\u001b[0m\u001b[1mc\u001b[22m\u001b[0m\u001b[1ma\u001b[22m\u001b[0m\u001b[1ms\u001b[22m\u001b[0m\u001b[1mt\u001b[22m! \u001b[0m\u001b[1mB\u001b[22m\u001b[0m\u001b[1mr\u001b[22m\u001b[0m\u001b[1mo\u001b[22m\u001b[0m\u001b[1ma\u001b[22m\u001b[0m\u001b[1md\u001b[22m\u001b[0m\u001b[1mc\u001b[22m\u001b[0m\u001b[1ma\u001b[22m\u001b[0m\u001b[1ms\u001b[22m\u001b[0m\u001b[1mt\u001b[22m\n",
      "\n"
     ]
    },
    {
     "data": {
      "text/latex": [
       "\\begin{verbatim}\n",
       "broadcast(f, As...)\n",
       "\\end{verbatim}\n",
       "Broadcast the function \\texttt{f} over the arrays, tuples, collections, \\href{@ref}{\\texttt{Ref}}s and/or scalars \\texttt{As}.\n",
       "\n",
       "Broadcasting applies the function \\texttt{f} over the elements of the container arguments and the scalars themselves in \\texttt{As}. Singleton and missing dimensions are expanded to match the extents of the other arguments by virtually repeating the value. By default, only a limited number of types are considered scalars, including \\texttt{Number}s, \\texttt{String}s, \\texttt{Symbol}s, \\texttt{Type}s, \\texttt{Function}s and some common singletons like \\href{@ref}{\\texttt{missing}} and \\href{@ref}{\\texttt{nothing}}. All other arguments are iterated over or indexed into elementwise.\n",
       "\n",
       "The resulting container type is established by the following rules:\n",
       "\n",
       "\\begin{itemize}\n",
       "\\item If all the arguments are scalars or zero-dimensional arrays, it returns an unwrapped scalar.\n",
       "\n",
       "\n",
       "\\item If at least one argument is a tuple and all others are scalars or zero-dimensional arrays, it returns a tuple.\n",
       "\n",
       "\n",
       "\\item All other combinations of arguments default to returning an \\texttt{Array}, but custom container types can define their own implementation and promotion-like rules to customize the result when they appear as arguments.\n",
       "\n",
       "\\end{itemize}\n",
       "A special syntax exists for broadcasting: \\texttt{f.(args...)} is equivalent to \\texttt{broadcast(f, args...)}, and nested \\texttt{f.(g.(args...))} calls are fused into a single broadcast loop.\n",
       "\n",
       "\\section{Examples}\n",
       "\\begin{verbatim}\n",
       "julia> A = [1, 2, 3, 4, 5]\n",
       "5-element Array{Int64,1}:\n",
       " 1\n",
       " 2\n",
       " 3\n",
       " 4\n",
       " 5\n",
       "\n",
       "julia> B = [1 2; 3 4; 5 6; 7 8; 9 10]\n",
       "5×2 Array{Int64,2}:\n",
       " 1   2\n",
       " 3   4\n",
       " 5   6\n",
       " 7   8\n",
       " 9  10\n",
       "\n",
       "julia> broadcast(+, A, B)\n",
       "5×2 Array{Int64,2}:\n",
       "  2   3\n",
       "  5   6\n",
       "  8   9\n",
       " 11  12\n",
       " 14  15\n",
       "\n",
       "julia> parse.(Int, [\"1\", \"2\"])\n",
       "2-element Array{Int64,1}:\n",
       " 1\n",
       " 2\n",
       "\n",
       "julia> abs.((1, -2))\n",
       "(1, 2)\n",
       "\n",
       "julia> broadcast(+, 1.0, (0, -2.0))\n",
       "(1.0, -1.0)\n",
       "\n",
       "julia> (+).([[0,2], [1,3]], Ref{Vector{Int}}([1,-1]))\n",
       "2-element Array{Array{Int64,1},1}:\n",
       " [1, 1]\n",
       " [2, 2]\n",
       "\n",
       "julia> string.((\"one\",\"two\",\"three\",\"four\"), \": \", 1:4)\n",
       "4-element Array{String,1}:\n",
       " \"one: 1\"\n",
       " \"two: 2\"\n",
       " \"three: 3\"\n",
       " \"four: 4\"\n",
       "\n",
       "\\end{verbatim}\n"
      ],
      "text/markdown": [
       "```\n",
       "broadcast(f, As...)\n",
       "```\n",
       "\n",
       "Broadcast the function `f` over the arrays, tuples, collections, [`Ref`](@ref)s and/or scalars `As`.\n",
       "\n",
       "Broadcasting applies the function `f` over the elements of the container arguments and the scalars themselves in `As`. Singleton and missing dimensions are expanded to match the extents of the other arguments by virtually repeating the value. By default, only a limited number of types are considered scalars, including `Number`s, `String`s, `Symbol`s, `Type`s, `Function`s and some common singletons like [`missing`](@ref) and [`nothing`](@ref). All other arguments are iterated over or indexed into elementwise.\n",
       "\n",
       "The resulting container type is established by the following rules:\n",
       "\n",
       "  * If all the arguments are scalars or zero-dimensional arrays, it returns an unwrapped scalar.\n",
       "  * If at least one argument is a tuple and all others are scalars or zero-dimensional arrays, it returns a tuple.\n",
       "  * All other combinations of arguments default to returning an `Array`, but custom container types can define their own implementation and promotion-like rules to customize the result when they appear as arguments.\n",
       "\n",
       "A special syntax exists for broadcasting: `f.(args...)` is equivalent to `broadcast(f, args...)`, and nested `f.(g.(args...))` calls are fused into a single broadcast loop.\n",
       "\n",
       "# Examples\n",
       "\n",
       "```jldoctest\n",
       "julia> A = [1, 2, 3, 4, 5]\n",
       "5-element Array{Int64,1}:\n",
       " 1\n",
       " 2\n",
       " 3\n",
       " 4\n",
       " 5\n",
       "\n",
       "julia> B = [1 2; 3 4; 5 6; 7 8; 9 10]\n",
       "5×2 Array{Int64,2}:\n",
       " 1   2\n",
       " 3   4\n",
       " 5   6\n",
       " 7   8\n",
       " 9  10\n",
       "\n",
       "julia> broadcast(+, A, B)\n",
       "5×2 Array{Int64,2}:\n",
       "  2   3\n",
       "  5   6\n",
       "  8   9\n",
       " 11  12\n",
       " 14  15\n",
       "\n",
       "julia> parse.(Int, [\"1\", \"2\"])\n",
       "2-element Array{Int64,1}:\n",
       " 1\n",
       " 2\n",
       "\n",
       "julia> abs.((1, -2))\n",
       "(1, 2)\n",
       "\n",
       "julia> broadcast(+, 1.0, (0, -2.0))\n",
       "(1.0, -1.0)\n",
       "\n",
       "julia> (+).([[0,2], [1,3]], Ref{Vector{Int}}([1,-1]))\n",
       "2-element Array{Array{Int64,1},1}:\n",
       " [1, 1]\n",
       " [2, 2]\n",
       "\n",
       "julia> string.((\"one\",\"two\",\"three\",\"four\"), \": \", 1:4)\n",
       "4-element Array{String,1}:\n",
       " \"one: 1\"\n",
       " \"two: 2\"\n",
       " \"three: 3\"\n",
       " \"four: 4\"\n",
       "\n",
       "```\n"
      ],
      "text/plain": [
       "\u001b[36m  broadcast(f, As...)\u001b[39m\n",
       "\n",
       "  Broadcast the function \u001b[36mf\u001b[39m over the arrays, tuples, collections, \u001b[36mRef\u001b[39ms and/or\n",
       "  scalars \u001b[36mAs\u001b[39m.\n",
       "\n",
       "  Broadcasting applies the function \u001b[36mf\u001b[39m over the elements of the container\n",
       "  arguments and the scalars themselves in \u001b[36mAs\u001b[39m. Singleton and missing dimensions\n",
       "  are expanded to match the extents of the other arguments by virtually\n",
       "  repeating the value. By default, only a limited number of types are\n",
       "  considered scalars, including \u001b[36mNumber\u001b[39ms, \u001b[36mString\u001b[39ms, \u001b[36mSymbol\u001b[39ms, \u001b[36mType\u001b[39ms, \u001b[36mFunction\u001b[39ms\n",
       "  and some common singletons like \u001b[36mmissing\u001b[39m and \u001b[36mnothing\u001b[39m. All other arguments are\n",
       "  iterated over or indexed into elementwise.\n",
       "\n",
       "  The resulting container type is established by the following rules:\n",
       "\n",
       "    •    If all the arguments are scalars or zero-dimensional arrays, it\n",
       "        returns an unwrapped scalar.\n",
       "\n",
       "    •    If at least one argument is a tuple and all others are scalars or\n",
       "        zero-dimensional arrays, it returns a tuple.\n",
       "\n",
       "    •    All other combinations of arguments default to returning an \u001b[36mArray\u001b[39m,\n",
       "        but custom container types can define their own implementation and\n",
       "        promotion-like rules to customize the result when they appear as\n",
       "        arguments.\n",
       "\n",
       "  A special syntax exists for broadcasting: \u001b[36mf.(args...)\u001b[39m is equivalent to\n",
       "  \u001b[36mbroadcast(f, args...)\u001b[39m, and nested \u001b[36mf.(g.(args...))\u001b[39m calls are fused into a\n",
       "  single broadcast loop.\n",
       "\n",
       "\u001b[1m  Examples\u001b[22m\n",
       "\u001b[1m  ≡≡≡≡≡≡≡≡≡≡\u001b[22m\n",
       "\n",
       "\u001b[36m  julia> A = [1, 2, 3, 4, 5]\u001b[39m\n",
       "\u001b[36m  5-element Array{Int64,1}:\u001b[39m\n",
       "\u001b[36m   1\u001b[39m\n",
       "\u001b[36m   2\u001b[39m\n",
       "\u001b[36m   3\u001b[39m\n",
       "\u001b[36m   4\u001b[39m\n",
       "\u001b[36m   5\u001b[39m\n",
       "\u001b[36m  \u001b[39m\n",
       "\u001b[36m  julia> B = [1 2; 3 4; 5 6; 7 8; 9 10]\u001b[39m\n",
       "\u001b[36m  5×2 Array{Int64,2}:\u001b[39m\n",
       "\u001b[36m   1   2\u001b[39m\n",
       "\u001b[36m   3   4\u001b[39m\n",
       "\u001b[36m   5   6\u001b[39m\n",
       "\u001b[36m   7   8\u001b[39m\n",
       "\u001b[36m   9  10\u001b[39m\n",
       "\u001b[36m  \u001b[39m\n",
       "\u001b[36m  julia> broadcast(+, A, B)\u001b[39m\n",
       "\u001b[36m  5×2 Array{Int64,2}:\u001b[39m\n",
       "\u001b[36m    2   3\u001b[39m\n",
       "\u001b[36m    5   6\u001b[39m\n",
       "\u001b[36m    8   9\u001b[39m\n",
       "\u001b[36m   11  12\u001b[39m\n",
       "\u001b[36m   14  15\u001b[39m\n",
       "\u001b[36m  \u001b[39m\n",
       "\u001b[36m  julia> parse.(Int, [\"1\", \"2\"])\u001b[39m\n",
       "\u001b[36m  2-element Array{Int64,1}:\u001b[39m\n",
       "\u001b[36m   1\u001b[39m\n",
       "\u001b[36m   2\u001b[39m\n",
       "\u001b[36m  \u001b[39m\n",
       "\u001b[36m  julia> abs.((1, -2))\u001b[39m\n",
       "\u001b[36m  (1, 2)\u001b[39m\n",
       "\u001b[36m  \u001b[39m\n",
       "\u001b[36m  julia> broadcast(+, 1.0, (0, -2.0))\u001b[39m\n",
       "\u001b[36m  (1.0, -1.0)\u001b[39m\n",
       "\u001b[36m  \u001b[39m\n",
       "\u001b[36m  julia> (+).([[0,2], [1,3]], Ref{Vector{Int}}([1,-1]))\u001b[39m\n",
       "\u001b[36m  2-element Array{Array{Int64,1},1}:\u001b[39m\n",
       "\u001b[36m   [1, 1]\u001b[39m\n",
       "\u001b[36m   [2, 2]\u001b[39m\n",
       "\u001b[36m  \u001b[39m\n",
       "\u001b[36m  julia> string.((\"one\",\"two\",\"three\",\"four\"), \": \", 1:4)\u001b[39m\n",
       "\u001b[36m  4-element Array{String,1}:\u001b[39m\n",
       "\u001b[36m   \"one: 1\"\u001b[39m\n",
       "\u001b[36m   \"two: 2\"\u001b[39m\n",
       "\u001b[36m   \"three: 3\"\u001b[39m\n",
       "\u001b[36m   \"four: 4\"\u001b[39m\n",
       "\u001b[36m  \u001b[39m"
      ]
     },
     "execution_count": 1,
     "metadata": {},
     "output_type": "execute_result"
    }
   ],
   "source": [
    "?broadcast # hunting down documentation - use the ? and any type/function/..."
   ]
  },
  {
   "cell_type": "code",
   "execution_count": 22,
   "metadata": {
    "ExecuteTime": {
     "end_time": "2020-05-12T18:04:49.858000+02:00",
     "start_time": "2020-05-12T16:04:49.842Z"
    },
    "hidden": true
   },
   "outputs": [
    {
     "data": {
      "text/html": [
       "# 92 methods for generic function <b>copy</b>:<ul><li> copy(e::<b>Expr</b>) in Base at <a href=\"https://github.com/JuliaLang/julia/tree/381693d3dfc9b7072707f6d544f82f6637fc5e7c/base/expr.jl#L36\" target=\"_blank\">expr.jl:36</a></li> <li> copy(c::<b>Core.CodeInfo</b>) in Base at <a href=\"https://github.com/JuliaLang/julia/tree/381693d3dfc9b7072707f6d544f82f6637fc5e7c/base/expr.jl#L64\" target=\"_blank\">expr.jl:64</a></li> <li> copy(s1::<b>BitSet</b>) in Base at <a href=\"https://github.com/JuliaLang/julia/tree/381693d3dfc9b7072707f6d544f82f6637fc5e7c/base/bitset.jl#L46\" target=\"_blank\">bitset.jl:46</a></li> <li> copy(src::<b>Random.DSFMT.DSFMT_state</b>) in Random.DSFMT at <a href=\"file://C:/Users/julia/AppData/Local/Julia-1.4.1/share/julia/stdlib/v1.4/Random/src/DSFMT.jl\" target=\"_blank\">C:\\Users\\Asus S\\AppData\\Local\\JuliaPro-1.4.1-1\\Julia-1.4.1\\share\\julia\\stdlib\\v1.4\\Random\\src\\DSFMT.jl:38</a></li> <li> copy(f::<b>Random.DSFMT.GF2X</b>) in Random.DSFMT at <a href=\"file://C:/Users/julia/AppData/Local/Julia-1.4.1/share/julia/stdlib/v1.4/Random/src/DSFMT.jl\" target=\"_blank\">C:\\Users\\Asus S\\AppData\\Local\\JuliaPro-1.4.1-1\\Julia-1.4.1\\share\\julia\\stdlib\\v1.4\\Random\\src\\DSFMT.jl:111</a></li> <li> copy(src::<b>Random.MersenneTwister</b>) in Random at <a href=\"file://C:/Users/julia/AppData/Local/Julia-1.4.1/share/julia/stdlib/v1.4/Random/src/RNGs.jl\" target=\"_blank\">C:\\Users\\Asus S\\AppData\\Local\\JuliaPro-1.4.1-1\\Julia-1.4.1\\share\\julia\\stdlib\\v1.4\\Random\\src\\RNGs.jl:152</a></li> <li> copy(::<b>Random._GLOBAL_RNG</b>) in Random at <a href=\"file://C:/Users/julia/AppData/Local/Julia-1.4.1/share/julia/stdlib/v1.4/Random/src/RNGs.jl\" target=\"_blank\">C:\\Users\\Asus S\\AppData\\Local\\JuliaPro-1.4.1-1\\Julia-1.4.1\\share\\julia\\stdlib\\v1.4\\Random\\src\\RNGs.jl:324</a></li> <li> copy(md::<b>Markdown.MD</b>) in Markdown at <a href=\"file://C:/Users/julia/AppData/Local/Julia-1.4.1/share/julia/stdlib/v1.4/Markdown/src/parse/parse.jl\" target=\"_blank\">C:\\Users\\Asus S\\AppData\\Local\\JuliaPro-1.4.1-1\\Julia-1.4.1\\share\\julia\\stdlib\\v1.4\\Markdown\\src\\parse\\parse.jl:30</a></li> <li> copy(B::<b>LinearAlgebra.Adjoint{Bool,BitArray{2}}</b>) in LinearAlgebra at <a href=\"file://C:/Users/julia/AppData/Local/Julia-1.4.1/share/julia/stdlib/v1.4/LinearAlgebra/src/bitarray.jl\" target=\"_blank\">C:\\Users\\Asus S\\AppData\\Local\\JuliaPro-1.4.1-1\\Julia-1.4.1\\share\\julia\\stdlib\\v1.4\\LinearAlgebra\\src\\bitarray.jl:225</a></li> <li> copy(B::<b>LinearAlgebra.Transpose{Bool,BitArray{2}}</b>) in LinearAlgebra at <a href=\"file://C:/Users/julia/AppData/Local/Julia-1.4.1/share/julia/stdlib/v1.4/LinearAlgebra/src/bitarray.jl\" target=\"_blank\">C:\\Users\\Asus S\\AppData\\Local\\JuliaPro-1.4.1-1\\Julia-1.4.1\\share\\julia\\stdlib\\v1.4\\LinearAlgebra\\src\\bitarray.jl:226</a></li> <li> copy(vs::<b>Pkg.Types.VersionSpec</b>) in Pkg.Types at <a href=\"file://C:/Users/julia/AppData/Local/Julia-1.4.1/share/julia/stdlib/v1.4/Pkg/src/versions.jl\" target=\"_blank\">C:\\Users\\Asus S\\AppData\\Local\\JuliaPro-1.4.1-1\\Julia-1.4.1\\share\\julia\\stdlib\\v1.4\\Pkg\\src\\versions.jl:208</a></li> <li> copy(data::<b>Pkg.Resolve.GraphData</b>) in Pkg.Resolve at <a href=\"file://C:/Users/julia/AppData/Local/Julia-1.4.1/share/julia/stdlib/v1.4/Pkg/src/Resolve/graphtype.jl\" target=\"_blank\">C:\\Users\\Asus S\\AppData\\Local\\JuliaPro-1.4.1-1\\Julia-1.4.1\\share\\julia\\stdlib\\v1.4\\Pkg\\src\\Resolve\\graphtype.jl:165</a></li> <li> copy(graph::<b>Pkg.Resolve.Graph</b>) in Pkg.Resolve at <a href=\"file://C:/Users/julia/AppData/Local/Julia-1.4.1/share/julia/stdlib/v1.4/Pkg/src/Resolve/graphtype.jl\" target=\"_blank\">C:\\Users\\Asus S\\AppData\\Local\\JuliaPro-1.4.1-1\\Julia-1.4.1\\share\\julia\\stdlib\\v1.4\\Pkg\\src\\Resolve\\graphtype.jl:373</a></li> <li> copy(a::<b>Pkg.Resolve.VersionWeight</b>) in Pkg.Resolve at <a href=\"file://C:/Users/julia/AppData/Local/Julia-1.4.1/share/julia/stdlib/v1.4/Pkg/src/Resolve/versionweights.jl\" target=\"_blank\">C:\\Users\\Asus S\\AppData\\Local\\JuliaPro-1.4.1-1\\Julia-1.4.1\\share\\julia\\stdlib\\v1.4\\Pkg\\src\\Resolve\\versionweights.jl:39</a></li> <li> copy(a::<b>Pkg.Resolve.FieldValue</b>) in Pkg.Resolve at <a href=\"file://C:/Users/julia/AppData/Local/Julia-1.4.1/share/julia/stdlib/v1.4/Pkg/src/Resolve/fieldvalues.jl\" target=\"_blank\">C:\\Users\\Asus S\\AppData\\Local\\JuliaPro-1.4.1-1\\Julia-1.4.1\\share\\julia\\stdlib\\v1.4\\Pkg\\src\\Resolve\\fieldvalues.jl:63</a></li> <li> copy(r::<b>AbstractRange</b>) in Base at <a href=\"https://github.com/JuliaLang/julia/tree/381693d3dfc9b7072707f6d544f82f6637fc5e7c/base/range.jl#L582\" target=\"_blank\">range.jl:582</a></li> <li> copy(x::<b>Number</b>) in Base at <a href=\"https://github.com/JuliaLang/julia/tree/381693d3dfc9b7072707f6d544f82f6637fc5e7c/base/number.jl#L88\" target=\"_blank\">number.jl:88</a></li> <li> copy(a::<b>T</b>)<i> where T<:Array</i> in Base at <a href=\"https://github.com/JuliaLang/julia/tree/381693d3dfc9b7072707f6d544f82f6637fc5e7c/base/array.jl#L352\" target=\"_blank\">array.jl:352</a></li> <li> copy(a::<b>SubArray{#s664,#s663,#s662,I,L} where L where I where #s662<:Union{SparseArrays.AbstractSparseMatrixCSC, SparseArrays.SparseVector} where #s663 where #s664</b>) in SparseArrays at <a href=\"file://C:/Users/julia/AppData/Local/Julia-1.4.1/share/julia/stdlib/v1.4/SparseArrays/src/sparsevector.jl\" target=\"_blank\">C:\\Users\\Asus S\\AppData\\Local\\JuliaPro-1.4.1-1\\Julia-1.4.1\\share\\julia\\stdlib\\v1.4\\SparseArrays\\src\\sparsevector.jl:702</a></li> <li> copy(V::<b>SubArray</b>) in Base at <a href=\"https://github.com/JuliaLang/julia/tree/381693d3dfc9b7072707f6d544f82f6637fc5e7c/base/subarray.jl#L77\" target=\"_blank\">subarray.jl:77</a></li> <li> copy(S::<b>LinearAlgebra.Transpose{#s664,#s663} where #s663<:LinearAlgebra.SymTridiagonal where #s664</b>) in LinearAlgebra at <a href=\"file://C:/Users/julia/AppData/Local/Julia-1.4.1/share/julia/stdlib/v1.4/LinearAlgebra/src/tridiag.jl\" target=\"_blank\">C:\\Users\\Asus S\\AppData\\Local\\JuliaPro-1.4.1-1\\Julia-1.4.1\\share\\julia\\stdlib\\v1.4\\LinearAlgebra\\src\\tridiag.jl:140</a></li> <li> copy(tS::<b>LinearAlgebra.Transpose{#s664,#s663} where #s663<:LinearAlgebra.Tridiagonal where #s664</b>) in LinearAlgebra at <a href=\"file://C:/Users/julia/AppData/Local/Julia-1.4.1/share/julia/stdlib/v1.4/LinearAlgebra/src/tridiag.jl\" target=\"_blank\">C:\\Users\\Asus S\\AppData\\Local\\JuliaPro-1.4.1-1\\Julia-1.4.1\\share\\julia\\stdlib\\v1.4\\LinearAlgebra\\src\\tridiag.jl:552</a></li> <li> copy(A::<b>LinearAlgebra.Transpose{#s664,#s663} where #s663<:LinearAlgebra.LowerTriangular where #s664</b>) in LinearAlgebra at <a href=\"file://C:/Users/julia/AppData/Local/Julia-1.4.1/share/julia/stdlib/v1.4/LinearAlgebra/src/triangular.jl\" target=\"_blank\">C:\\Users\\Asus S\\AppData\\Local\\JuliaPro-1.4.1-1\\Julia-1.4.1\\share\\julia\\stdlib\\v1.4\\LinearAlgebra\\src\\triangular.jl:400</a></li> <li> copy(A::<b>LinearAlgebra.Transpose{#s664,#s663} where #s663<:LinearAlgebra.UpperTriangular where #s664</b>) in LinearAlgebra at <a href=\"file://C:/Users/julia/AppData/Local/Julia-1.4.1/share/julia/stdlib/v1.4/LinearAlgebra/src/triangular.jl\" target=\"_blank\">C:\\Users\\Asus S\\AppData\\Local\\JuliaPro-1.4.1-1\\Julia-1.4.1\\share\\julia\\stdlib\\v1.4\\LinearAlgebra\\src\\triangular.jl:401</a></li> <li> copy(A::<b>LinearAlgebra.Transpose{#s664,#s663} where #s663<:LinearAlgebra.UnitLowerTriangular where #s664</b>) in LinearAlgebra at <a href=\"file://C:/Users/julia/AppData/Local/Julia-1.4.1/share/julia/stdlib/v1.4/LinearAlgebra/src/triangular.jl\" target=\"_blank\">C:\\Users\\Asus S\\AppData\\Local\\JuliaPro-1.4.1-1\\Julia-1.4.1\\share\\julia\\stdlib\\v1.4\\LinearAlgebra\\src\\triangular.jl:402</a></li> <li> copy(A::<b>LinearAlgebra.Transpose{#s664,#s663} where #s663<:LinearAlgebra.UnitUpperTriangular where #s664</b>) in LinearAlgebra at <a href=\"file://C:/Users/julia/AppData/Local/Julia-1.4.1/share/julia/stdlib/v1.4/LinearAlgebra/src/triangular.jl\" target=\"_blank\">C:\\Users\\Asus S\\AppData\\Local\\JuliaPro-1.4.1-1\\Julia-1.4.1\\share\\julia\\stdlib\\v1.4\\LinearAlgebra\\src\\triangular.jl:403</a></li> <li> copy(A::<b>LinearAlgebra.Transpose{#s664,#s663} where #s663<:LinearAlgebra.Symmetric where #s664</b>) in LinearAlgebra at <a href=\"file://C:/Users/julia/AppData/Local/Julia-1.4.1/share/julia/stdlib/v1.4/LinearAlgebra/src/symmetric.jl\" target=\"_blank\">C:\\Users\\Asus S\\AppData\\Local\\JuliaPro-1.4.1-1\\Julia-1.4.1\\share\\julia\\stdlib\\v1.4\\LinearAlgebra\\src\\symmetric.jl:357</a></li> <li> copy(A::<b>LinearAlgebra.Transpose{#s664,#s663} where #s663<:LinearAlgebra.Hermitian where #s664</b>) in LinearAlgebra at <a href=\"file://C:/Users/julia/AppData/Local/Julia-1.4.1/share/julia/stdlib/v1.4/LinearAlgebra/src/symmetric.jl\" target=\"_blank\">C:\\Users\\Asus S\\AppData\\Local\\JuliaPro-1.4.1-1\\Julia-1.4.1\\share\\julia\\stdlib\\v1.4\\LinearAlgebra\\src\\symmetric.jl:360</a></li> <li> copy(tB::<b>LinearAlgebra.Transpose{#s664,#s663} where #s663<:LinearAlgebra.Bidiagonal where #s664</b>) in LinearAlgebra at <a href=\"file://C:/Users/julia/AppData/Local/Julia-1.4.1/share/julia/stdlib/v1.4/LinearAlgebra/src/bidiag.jl\" target=\"_blank\">C:\\Users\\Asus S\\AppData\\Local\\JuliaPro-1.4.1-1\\Julia-1.4.1\\share\\julia\\stdlib\\v1.4\\LinearAlgebra\\src\\bidiag.jl:245</a></li> <li> copy(A::<b>LinearAlgebra.Transpose{#s664,#s663} where #s663<:LinearAlgebra.UpperHessenberg where #s664</b>) in LinearAlgebra at <a href=\"file://C:/Users/julia/AppData/Local/Julia-1.4.1/share/julia/stdlib/v1.4/LinearAlgebra/src/hessenberg.jl\" target=\"_blank\">C:\\Users\\Asus S\\AppData\\Local\\JuliaPro-1.4.1-1\\Julia-1.4.1\\share\\julia\\stdlib\\v1.4\\LinearAlgebra\\src\\hessenberg.jl:91</a></li> <li> copy(A::<b>LinearAlgebra.Transpose{#s664,#s663} where #s663<:SparseArrays.AbstractSparseMatrixCSC where #s664</b>) in SparseArrays at <a href=\"file://C:/Users/julia/AppData/Local/Julia-1.4.1/share/julia/stdlib/v1.4/SparseArrays/src/sparsematrix.jl\" target=\"_blank\">C:\\Users\\Asus S\\AppData\\Local\\JuliaPro-1.4.1-1\\Julia-1.4.1\\share\\julia\\stdlib\\v1.4\\SparseArrays\\src\\sparsematrix.jl:960</a></li> <li> copy(A::<b>LinearAlgebra.Transpose{#s664,#s663} where #s663<:(AbstractArray{T,2} where T) where #s664</b>) in LinearAlgebra at <a href=\"file://C:/Users/julia/AppData/Local/Julia-1.4.1/share/julia/stdlib/v1.4/LinearAlgebra/src/transpose.jl\" target=\"_blank\">C:\\Users\\Asus S\\AppData\\Local\\JuliaPro-1.4.1-1\\Julia-1.4.1\\share\\julia\\stdlib\\v1.4\\LinearAlgebra\\src\\transpose.jl:178</a></li> <li> copy(S::<b>LinearAlgebra.Adjoint{#s664,#s663} where #s663<:LinearAlgebra.SymTridiagonal where #s664</b>) in LinearAlgebra at <a href=\"file://C:/Users/julia/AppData/Local/Julia-1.4.1/share/julia/stdlib/v1.4/LinearAlgebra/src/tridiag.jl\" target=\"_blank\">C:\\Users\\Asus S\\AppData\\Local\\JuliaPro-1.4.1-1\\Julia-1.4.1\\share\\julia\\stdlib\\v1.4\\LinearAlgebra\\src\\tridiag.jl:139</a></li> <li> copy(aS::<b>LinearAlgebra.Adjoint{#s664,#s663} where #s663<:LinearAlgebra.Tridiagonal where #s664</b>) in LinearAlgebra at <a href=\"file://C:/Users/julia/AppData/Local/Julia-1.4.1/share/julia/stdlib/v1.4/LinearAlgebra/src/tridiag.jl\" target=\"_blank\">C:\\Users\\Asus S\\AppData\\Local\\JuliaPro-1.4.1-1\\Julia-1.4.1\\share\\julia\\stdlib\\v1.4\\LinearAlgebra\\src\\tridiag.jl:551</a></li> <li> copy(A::<b>LinearAlgebra.Adjoint{#s664,#s663} where #s663<:LinearAlgebra.LowerTriangular where #s664</b>) in LinearAlgebra at <a href=\"file://C:/Users/julia/AppData/Local/Julia-1.4.1/share/julia/stdlib/v1.4/LinearAlgebra/src/triangular.jl\" target=\"_blank\">C:\\Users\\Asus S\\AppData\\Local\\JuliaPro-1.4.1-1\\Julia-1.4.1\\share\\julia\\stdlib\\v1.4\\LinearAlgebra\\src\\triangular.jl:396</a></li> <li> copy(A::<b>LinearAlgebra.Adjoint{#s664,#s663} where #s663<:LinearAlgebra.UpperTriangular where #s664</b>) in LinearAlgebra at <a href=\"file://C:/Users/julia/AppData/Local/Julia-1.4.1/share/julia/stdlib/v1.4/LinearAlgebra/src/triangular.jl\" target=\"_blank\">C:\\Users\\Asus S\\AppData\\Local\\JuliaPro-1.4.1-1\\Julia-1.4.1\\share\\julia\\stdlib\\v1.4\\LinearAlgebra\\src\\triangular.jl:397</a></li> <li> copy(A::<b>LinearAlgebra.Adjoint{#s664,#s663} where #s663<:LinearAlgebra.UnitLowerTriangular where #s664</b>) in LinearAlgebra at <a href=\"file://C:/Users/julia/AppData/Local/Julia-1.4.1/share/julia/stdlib/v1.4/LinearAlgebra/src/triangular.jl\" target=\"_blank\">C:\\Users\\Asus S\\AppData\\Local\\JuliaPro-1.4.1-1\\Julia-1.4.1\\share\\julia\\stdlib\\v1.4\\LinearAlgebra\\src\\triangular.jl:398</a></li> <li> copy(A::<b>LinearAlgebra.Adjoint{#s664,#s663} where #s663<:LinearAlgebra.UnitUpperTriangular where #s664</b>) in LinearAlgebra at <a href=\"file://C:/Users/julia/AppData/Local/Julia-1.4.1/share/julia/stdlib/v1.4/LinearAlgebra/src/triangular.jl\" target=\"_blank\">C:\\Users\\Asus S\\AppData\\Local\\JuliaPro-1.4.1-1\\Julia-1.4.1\\share\\julia\\stdlib\\v1.4\\LinearAlgebra\\src\\triangular.jl:399</a></li> <li> copy(A::<b>LinearAlgebra.Adjoint{#s664,#s663} where #s663<:LinearAlgebra.Hermitian where #s664</b>) in LinearAlgebra at <a href=\"file://C:/Users/julia/AppData/Local/Julia-1.4.1/share/julia/stdlib/v1.4/LinearAlgebra/src/symmetric.jl\" target=\"_blank\">C:\\Users\\Asus S\\AppData\\Local\\JuliaPro-1.4.1-1\\Julia-1.4.1\\share\\julia\\stdlib\\v1.4\\LinearAlgebra\\src\\symmetric.jl:356</a></li> <li> copy(A::<b>LinearAlgebra.Adjoint{#s664,#s663} where #s663<:LinearAlgebra.Symmetric where #s664</b>) in LinearAlgebra at <a href=\"file://C:/Users/julia/AppData/Local/Julia-1.4.1/share/julia/stdlib/v1.4/LinearAlgebra/src/symmetric.jl\" target=\"_blank\">C:\\Users\\Asus S\\AppData\\Local\\JuliaPro-1.4.1-1\\Julia-1.4.1\\share\\julia\\stdlib\\v1.4\\LinearAlgebra\\src\\symmetric.jl:358</a></li> <li> copy(aB::<b>LinearAlgebra.Adjoint{#s664,#s663} where #s663<:LinearAlgebra.Bidiagonal where #s664</b>) in LinearAlgebra at <a href=\"file://C:/Users/julia/AppData/Local/Julia-1.4.1/share/julia/stdlib/v1.4/LinearAlgebra/src/bidiag.jl\" target=\"_blank\">C:\\Users\\Asus S\\AppData\\Local\\JuliaPro-1.4.1-1\\Julia-1.4.1\\share\\julia\\stdlib\\v1.4\\LinearAlgebra\\src\\bidiag.jl:241</a></li> <li> copy(A::<b>LinearAlgebra.Adjoint{#s664,#s663} where #s663<:LinearAlgebra.UpperHessenberg where #s664</b>) in LinearAlgebra at <a href=\"file://C:/Users/julia/AppData/Local/Julia-1.4.1/share/julia/stdlib/v1.4/LinearAlgebra/src/hessenberg.jl\" target=\"_blank\">C:\\Users\\Asus S\\AppData\\Local\\JuliaPro-1.4.1-1\\Julia-1.4.1\\share\\julia\\stdlib\\v1.4\\LinearAlgebra\\src\\hessenberg.jl:90</a></li> <li> copy(A::<b>LinearAlgebra.Adjoint{#s664,#s663} where #s663<:SparseArrays.AbstractSparseMatrixCSC where #s664</b>) in SparseArrays at <a href=\"file://C:/Users/julia/AppData/Local/Julia-1.4.1/share/julia/stdlib/v1.4/SparseArrays/src/sparsematrix.jl\" target=\"_blank\">C:\\Users\\Asus S\\AppData\\Local\\JuliaPro-1.4.1-1\\Julia-1.4.1\\share\\julia\\stdlib\\v1.4\\SparseArrays\\src\\sparsematrix.jl:958</a></li> <li> copy(A::<b>LinearAlgebra.Adjoint{#s664,#s663} where #s663<:(AbstractArray{T,2} where T) where #s664</b>) in LinearAlgebra at <a href=\"file://C:/Users/julia/AppData/Local/Julia-1.4.1/share/julia/stdlib/v1.4/LinearAlgebra/src/transpose.jl\" target=\"_blank\">C:\\Users\\Asus S\\AppData\\Local\\JuliaPro-1.4.1-1\\Julia-1.4.1\\share\\julia\\stdlib\\v1.4\\LinearAlgebra\\src\\transpose.jl:179</a></li> <li> copy(M::<b>LinearAlgebra.SymTridiagonal</b>) in LinearAlgebra at <a href=\"file://C:/Users/julia/AppData/Local/Julia-1.4.1/share/julia/stdlib/v1.4/LinearAlgebra/src/tridiag.jl\" target=\"_blank\">C:\\Users\\Asus S\\AppData\\Local\\JuliaPro-1.4.1-1\\Julia-1.4.1\\share\\julia\\stdlib\\v1.4\\LinearAlgebra\\src\\tridiag.jl:133</a></li> <li> copy(M::<b>LinearAlgebra.Tridiagonal</b>) in LinearAlgebra at <a href=\"file://C:/Users/julia/AppData/Local/Julia-1.4.1/share/julia/stdlib/v1.4/LinearAlgebra/src/tridiag.jl\" target=\"_blank\">C:\\Users\\Asus S\\AppData\\Local\\JuliaPro-1.4.1-1\\Julia-1.4.1\\share\\julia\\stdlib\\v1.4\\LinearAlgebra\\src\\tridiag.jl:543</a></li> <li> copy(A::<b>LinearAlgebra.LowerTriangular</b>) in LinearAlgebra at <a href=\"file://C:/Users/julia/AppData/Local/Julia-1.4.1/share/julia/stdlib/v1.4/LinearAlgebra/src/triangular.jl\" target=\"_blank\">C:\\Users\\Asus S\\AppData\\Local\\JuliaPro-1.4.1-1\\Julia-1.4.1\\share\\julia\\stdlib\\v1.4\\LinearAlgebra\\src\\triangular.jl:46</a></li> <li> copy(A::<b>LinearAlgebra.UnitLowerTriangular</b>) in LinearAlgebra at <a href=\"file://C:/Users/julia/AppData/Local/Julia-1.4.1/share/julia/stdlib/v1.4/LinearAlgebra/src/triangular.jl\" target=\"_blank\">C:\\Users\\Asus S\\AppData\\Local\\JuliaPro-1.4.1-1\\Julia-1.4.1\\share\\julia\\stdlib\\v1.4\\LinearAlgebra\\src\\triangular.jl:46</a></li> <li> copy(A::<b>LinearAlgebra.UpperTriangular</b>) in LinearAlgebra at <a href=\"file://C:/Users/julia/AppData/Local/Julia-1.4.1/share/julia/stdlib/v1.4/LinearAlgebra/src/triangular.jl\" target=\"_blank\">C:\\Users\\Asus S\\AppData\\Local\\JuliaPro-1.4.1-1\\Julia-1.4.1\\share\\julia\\stdlib\\v1.4\\LinearAlgebra\\src\\triangular.jl:46</a></li> <li> copy(A::<b>LinearAlgebra.UnitUpperTriangular</b>) in LinearAlgebra at <a href=\"file://C:/Users/julia/AppData/Local/Julia-1.4.1/share/julia/stdlib/v1.4/LinearAlgebra/src/triangular.jl\" target=\"_blank\">C:\\Users\\Asus S\\AppData\\Local\\JuliaPro-1.4.1-1\\Julia-1.4.1\\share\\julia\\stdlib\\v1.4\\LinearAlgebra\\src\\triangular.jl:46</a></li> <li> copy(F::<b>LinearAlgebra.Adjoint{T,#s664} where #s664<:(LinearAlgebra.LQ{T,S} where S<:AbstractArray{T,2})</b>)<i> where T</i> in LinearAlgebra at <a href=\"file://C:/Users/julia/AppData/Local/Julia-1.4.1/share/julia/stdlib/v1.4/LinearAlgebra/src/lq.jl\" target=\"_blank\">C:\\Users\\Asus S\\AppData\\Local\\JuliaPro-1.4.1-1\\Julia-1.4.1\\share\\julia\\stdlib\\v1.4\\LinearAlgebra\\src\\lq.jl:122</a></li> <li> copy(A::<b>LinearAlgebra.Symmetric{T,S}</b>)<i> where {T, S}</i> in LinearAlgebra at <a href=\"file://C:/Users/julia/AppData/Local/Julia-1.4.1/share/julia/stdlib/v1.4/LinearAlgebra/src/symmetric.jl\" target=\"_blank\">C:\\Users\\Asus S\\AppData\\Local\\JuliaPro-1.4.1-1\\Julia-1.4.1\\share\\julia\\stdlib\\v1.4\\LinearAlgebra\\src\\symmetric.jl:278</a></li> <li> copy(A::<b>LinearAlgebra.Hermitian{T,S}</b>)<i> where {T, S}</i> in LinearAlgebra at <a href=\"file://C:/Users/julia/AppData/Local/Julia-1.4.1/share/julia/stdlib/v1.4/LinearAlgebra/src/symmetric.jl\" target=\"_blank\">C:\\Users\\Asus S\\AppData\\Local\\JuliaPro-1.4.1-1\\Julia-1.4.1\\share\\julia\\stdlib\\v1.4\\LinearAlgebra\\src\\symmetric.jl:279</a></li> <li> copy(M::<b>LinearAlgebra.Bidiagonal</b>) in LinearAlgebra at <a href=\"file://C:/Users/julia/AppData/Local/Julia-1.4.1/share/julia/stdlib/v1.4/LinearAlgebra/src/bidiag.jl\" target=\"_blank\">C:\\Users\\Asus S\\AppData\\Local\\JuliaPro-1.4.1-1\\Julia-1.4.1\\share\\julia\\stdlib\\v1.4\\LinearAlgebra\\src\\bidiag.jl:233</a></li> <li> copy(H::<b>LinearAlgebra.UpperHessenberg</b>) in LinearAlgebra at <a href=\"file://C:/Users/julia/AppData/Local/Julia-1.4.1/share/julia/stdlib/v1.4/LinearAlgebra/src/hessenberg.jl\" target=\"_blank\">C:\\Users\\Asus S\\AppData\\Local\\JuliaPro-1.4.1-1\\Julia-1.4.1\\share\\julia\\stdlib\\v1.4\\LinearAlgebra\\src\\hessenberg.jl:63</a></li> <li> copy(aG::<b>LinearAlgebra.Adjoint{#s664,#s663} where #s663<:LinearAlgebra.Givens where #s664</b>) in LinearAlgebra at <a href=\"file://C:/Users/julia/AppData/Local/Julia-1.4.1/share/julia/stdlib/v1.4/LinearAlgebra/src/givens.jl\" target=\"_blank\">C:\\Users\\Asus S\\AppData\\Local\\JuliaPro-1.4.1-1\\Julia-1.4.1\\share\\julia\\stdlib\\v1.4\\LinearAlgebra\\src\\givens.jl:59</a></li> <li> copy(aR::<b>LinearAlgebra.Adjoint{#s664,LinearAlgebra.Rotation{T}} where #s664</b>)<i> where T</i> in LinearAlgebra at <a href=\"file://C:/Users/julia/AppData/Local/Julia-1.4.1/share/julia/stdlib/v1.4/LinearAlgebra/src/givens.jl\" target=\"_blank\">C:\\Users\\Asus S\\AppData\\Local\\JuliaPro-1.4.1-1\\Julia-1.4.1\\share\\julia\\stdlib\\v1.4\\LinearAlgebra\\src\\givens.jl:62</a></li> <li> copy(ra::<b>Base.ReshapedArray{#s664,2,#s663,MI} where MI<:Tuple{Vararg{Base.MultiplicativeInverses.SignedMultiplicativeInverse{Int64},N} where N} where #s663<:SparseArrays.AbstractSparseMatrixCSC where #s664</b>) in SparseArrays at <a href=\"file://C:/Users/julia/AppData/Local/Julia-1.4.1/share/julia/stdlib/v1.4/SparseArrays/src/sparsematrix.jl\" target=\"_blank\">C:\\Users\\Asus S\\AppData\\Local\\JuliaPro-1.4.1-1\\Julia-1.4.1\\share\\julia\\stdlib\\v1.4\\SparseArrays\\src\\sparsematrix.jl:286</a></li> <li> copy(S::<b>SparseArrays.AbstractSparseMatrixCSC</b>) in SparseArrays at <a href=\"file://C:/Users/julia/AppData/Local/Julia-1.4.1/share/julia/stdlib/v1.4/SparseArrays/src/sparsematrix.jl\" target=\"_blank\">C:\\Users\\Asus S\\AppData\\Local\\JuliaPro-1.4.1-1\\Julia-1.4.1\\share\\julia\\stdlib\\v1.4\\SparseArrays\\src\\sparsematrix.jl:306</a></li> <li> copy(A::<b>SuiteSparse.CHOLMOD.Sparse{Tv}</b>)<i> where Tv<:Union{Complex{Float64}, Float64}</i> in SuiteSparse.CHOLMOD at <a href=\"file://C:/Users/julia/AppData/Local/Julia-1.4.1/share/julia/stdlib/v1.4/SuiteSparse/src/cholmod.jl\" target=\"_blank\">C:\\Users\\Asus S\\AppData\\Local\\JuliaPro-1.4.1-1\\Julia-1.4.1\\share\\julia\\stdlib\\v1.4\\SuiteSparse\\src\\cholmod.jl:588</a></li> <li> copy(A::<b>SuiteSparse.CHOLMOD.Sparse{Tv}</b>, stype::<b>Integer</b>, mode::<b>Integer</b>)<i> where Tv<:Float64</i> in SuiteSparse.CHOLMOD at <a href=\"file://C:/Users/julia/AppData/Local/Julia-1.4.1/share/julia/stdlib/v1.4/SuiteSparse/src/cholmod.jl\" target=\"_blank\">C:\\Users\\Asus S\\AppData\\Local\\JuliaPro-1.4.1-1\\Julia-1.4.1\\share\\julia\\stdlib\\v1.4\\SuiteSparse\\src\\cholmod.jl:594</a></li> <li> copy(x::<b>SparseArrays.AbstractSparseArray{Tv,Ti,1} where Ti where Tv</b>) in SparseArrays at <a href=\"file://C:/Users/julia/AppData/Local/Julia-1.4.1/share/julia/stdlib/v1.4/SparseArrays/src/sparsevector.jl\" target=\"_blank\">C:\\Users\\Asus S\\AppData\\Local\\JuliaPro-1.4.1-1\\Julia-1.4.1\\share\\julia\\stdlib\\v1.4\\SparseArrays\\src\\sparsevector.jl:913</a></li> <li> copy(A::<b>SuiteSparse.CHOLMOD.Dense{Tv}</b>)<i> where Tv<:Union{Complex{Float64}, Float64}</i> in SuiteSparse.CHOLMOD at <a href=\"file://C:/Users/julia/AppData/Local/Julia-1.4.1/share/julia/stdlib/v1.4/SuiteSparse/src/cholmod.jl\" target=\"_blank\">C:\\Users\\Asus S\\AppData\\Local\\JuliaPro-1.4.1-1\\Julia-1.4.1\\share\\julia\\stdlib\\v1.4\\SuiteSparse\\src\\cholmod.jl:447</a></li> <li> copy(a::<b>AbstractArray</b>) in Base at <a href=\"https://github.com/JuliaLang/julia/tree/381693d3dfc9b7072707f6d544f82f6637fc5e7c/base/abstractarray.jl#L847\" target=\"_blank\">abstractarray.jl:847</a></li> <li> copy(d::<b>IdDict</b>) in Base at <a href=\"https://github.com/JuliaLang/julia/tree/381693d3dfc9b7072707f6d544f82f6637fc5e7c/base/abstractdict.jl#L648\" target=\"_blank\">abstractdict.jl:648</a></li> <li> copy(d::<b>Dict</b>) in Base at <a href=\"https://github.com/JuliaLang/julia/tree/381693d3dfc9b7072707f6d544f82f6637fc5e7c/base/dict.jl#L119\" target=\"_blank\">dict.jl:119</a></li> <li> copy(d::<b>WeakKeyDict</b>) in Base at <a href=\"https://github.com/JuliaLang/julia/tree/381693d3dfc9b7072707f6d544f82f6637fc5e7c/base/weakkeydict.jl#L53\" target=\"_blank\">weakkeydict.jl:53</a></li> <li> copy(a::<b>AbstractDict</b>) in Base at <a href=\"https://github.com/JuliaLang/julia/tree/381693d3dfc9b7072707f6d544f82f6637fc5e7c/base/abstractdict.jl#L153\" target=\"_blank\">abstractdict.jl:153</a></li> <li> copy(s::<b>Base.IdSet</b>) in Base at <a href=\"https://github.com/JuliaLang/julia/tree/381693d3dfc9b7072707f6d544f82f6637fc5e7c/base/abstractdict.jl#L687\" target=\"_blank\">abstractdict.jl:687</a></li> <li> copy(s::<b>Set</b>) in Base at <a href=\"https://github.com/JuliaLang/julia/tree/381693d3dfc9b7072707f6d544f82f6637fc5e7c/base/set.jl#L59\" target=\"_blank\">set.jl:59</a></li> <li> copy(b::<b>Base.GenericIOBuffer</b>) in Base at <a href=\"https://github.com/JuliaLang/julia/tree/381693d3dfc9b7072707f6d544f82f6637fc5e7c/base/iobuffer.jl#L141\" target=\"_blank\">iobuffer.jl:141</a></li> <li> copy(bc::<b>Base.Broadcast.Broadcasted{Style,Axes,F,Args} where Args<:Tuple{Union{SparseArrays.AbstractSparseMatrixCSC, SparseArrays.SparseVector}} where F where Axes where Style<:Union{SparseArrays.HigherOrderFns.SparseMatStyle, SparseArrays.HigherOrderFns.SparseVecStyle}</b>) in SparseArrays.HigherOrderFns at <a href=\"file://C:/Users/julia/AppData/Local/Julia-1.4.1/share/julia/stdlib/v1.4/SparseArrays/src/higherorderfns.jl\" target=\"_blank\">C:\\Users\\Asus S\\AppData\\Local\\JuliaPro-1.4.1-1\\Julia-1.4.1\\share\\julia\\stdlib\\v1.4\\SparseArrays\\src\\higherorderfns.jl:169</a></li> <li> copy(bc::<b>Base.Broadcast.Broadcasted{SparseArrays.HigherOrderFns.PromoteToSparse,Axes,F,Args} where Args<:Tuple where F where Axes</b>) in SparseArrays.HigherOrderFns at <a href=\"file://C:/Users/julia/AppData/Local/Julia-1.4.1/share/julia/stdlib/v1.4/SparseArrays/src/higherorderfns.jl\" target=\"_blank\">C:\\Users\\Asus S\\AppData\\Local\\JuliaPro-1.4.1-1\\Julia-1.4.1\\share\\julia\\stdlib\\v1.4\\SparseArrays\\src\\higherorderfns.jl:1127</a></li> <li> copy(bc::<b>Base.Broadcast.Broadcasted{#s664,Axes,F,Args} where Args<:Tuple where F where Axes where #s664<:Union{SparseArrays.HigherOrderFns.SparseMatStyle, SparseArrays.HigherOrderFns.SparseVecStyle}</b>) in SparseArrays.HigherOrderFns at <a href=\"file://C:/Users/julia/AppData/Local/Julia-1.4.1/share/julia/stdlib/v1.4/SparseArrays/src/higherorderfns.jl\" target=\"_blank\">C:\\Users\\Asus S\\AppData\\Local\\JuliaPro-1.4.1-1\\Julia-1.4.1\\share\\julia\\stdlib\\v1.4\\SparseArrays\\src\\higherorderfns.jl:1010</a></li> <li> copy(bc::<b>Base.Broadcast.Broadcasted{#s664,Axes,F,Args} where Args<:Tuple where F where Axes where #s664<:Base.Broadcast.AbstractArrayStyle{0}</b>) in Base.Broadcast at <a href=\"https://github.com/JuliaLang/julia/tree/381693d3dfc9b7072707f6d544f82f6637fc5e7c/base/broadcast.jl#L830\" target=\"_blank\">broadcast.jl:830</a></li> <li> copy(bc::<b>Base.Broadcast.Broadcasted{Base.Broadcast.Style{Tuple},Axes,F,Args} where Args<:Tuple where F where Axes</b>) in Base.Broadcast at <a href=\"https://github.com/JuliaLang/julia/tree/381693d3dfc9b7072707f6d544f82f6637fc5e7c/base/broadcast.jl#L1021\" target=\"_blank\">broadcast.jl:1021</a></li> <li> copy(bc::<b>Base.Broadcast.Broadcasted{#s664,Axes,F,Args} where Args<:Tuple where F where Axes where #s664<:Union{Base.Broadcast.Unknown, Nothing}</b>) in Base.Broadcast at <a href=\"https://github.com/JuliaLang/julia/tree/381693d3dfc9b7072707f6d544f82f6637fc5e7c/base/broadcast.jl#L831\" target=\"_blank\">broadcast.jl:831</a></li> <li> copy(bc::<b>Base.Broadcast.Broadcasted{Style,Axes,F,Args} where Args<:Tuple where F where Axes</b>)<i> where Style</i> in Base.Broadcast at <a href=\"https://github.com/JuliaLang/julia/tree/381693d3dfc9b7072707f6d544f82f6637fc5e7c/base/broadcast.jl#L837\" target=\"_blank\">broadcast.jl:837</a></li> <li> copy(A::<b>LinearAlgebra.LQ</b>) in LinearAlgebra at <a href=\"file://C:/Users/julia/AppData/Local/Julia-1.4.1/share/julia/stdlib/v1.4/LinearAlgebra/src/lq.jl\" target=\"_blank\">C:\\Users\\Asus S\\AppData\\Local\\JuliaPro-1.4.1-1\\Julia-1.4.1\\share\\julia\\stdlib\\v1.4\\LinearAlgebra\\src\\lq.jl:111</a></li> <li> copy(C::<b>LinearAlgebra.Cholesky</b>) in LinearAlgebra at <a href=\"file://C:/Users/julia/AppData/Local/Julia-1.4.1/share/julia/stdlib/v1.4/LinearAlgebra/src/cholesky.jl\" target=\"_blank\">C:\\Users\\Asus S\\AppData\\Local\\JuliaPro-1.4.1-1\\Julia-1.4.1\\share\\julia\\stdlib\\v1.4\\LinearAlgebra\\src\\cholesky.jl:406</a></li> <li> copy(C::<b>LinearAlgebra.CholeskyPivoted</b>) in LinearAlgebra at <a href=\"file://C:/Users/julia/AppData/Local/Julia-1.4.1/share/julia/stdlib/v1.4/LinearAlgebra/src/cholesky.jl\" target=\"_blank\">C:\\Users\\Asus S\\AppData\\Local\\JuliaPro-1.4.1-1\\Julia-1.4.1\\share\\julia\\stdlib\\v1.4\\LinearAlgebra\\src\\cholesky.jl:407</a></li> <li> copy(A::<b>LinearAlgebra.LU{T,S}</b>)<i> where {T, S}</i> in LinearAlgebra at <a href=\"file://C:/Users/julia/AppData/Local/Julia-1.4.1/share/julia/stdlib/v1.4/LinearAlgebra/src/lu.jl\" target=\"_blank\">C:\\Users\\Asus S\\AppData\\Local\\JuliaPro-1.4.1-1\\Julia-1.4.1\\share\\julia\\stdlib\\v1.4\\LinearAlgebra\\src\\lu.jl:291</a></li> <li> copy(J::<b>LinearAlgebra.UniformScaling</b>) in LinearAlgebra at <a href=\"file://C:/Users/julia/AppData/Local/Julia-1.4.1/share/julia/stdlib/v1.4/LinearAlgebra/src/uniformscaling.jl\" target=\"_blank\">C:\\Users\\Asus S\\AppData\\Local\\JuliaPro-1.4.1-1\\Julia-1.4.1\\share\\julia\\stdlib\\v1.4\\LinearAlgebra\\src\\uniformscaling.jl:88</a></li> <li> copy(F::<b>LinearAlgebra.Hessenberg{#s664,#s663,S,W,V} where V<:Number where W<:(AbstractArray{T,1} where T) where S<:(AbstractArray{T,2} where T) where #s663<:LinearAlgebra.UpperHessenberg where #s664</b>) in LinearAlgebra at <a href=\"file://C:/Users/julia/AppData/Local/Julia-1.4.1/share/julia/stdlib/v1.4/LinearAlgebra/src/hessenberg.jl\" target=\"_blank\">C:\\Users\\Asus S\\AppData\\Local\\JuliaPro-1.4.1-1\\Julia-1.4.1\\share\\julia\\stdlib\\v1.4\\LinearAlgebra\\src\\hessenberg.jl:339</a></li> <li> copy(F::<b>LinearAlgebra.Hessenberg{#s664,#s663,S,W,V} where V<:Number where W<:(AbstractArray{T,1} where T) where S<:(AbstractArray{T,2} where T) where #s663<:LinearAlgebra.SymTridiagonal where #s664</b>) in LinearAlgebra at <a href=\"file://C:/Users/julia/AppData/Local/Julia-1.4.1/share/julia/stdlib/v1.4/LinearAlgebra/src/hessenberg.jl\" target=\"_blank\">C:\\Users\\Asus S\\AppData\\Local\\JuliaPro-1.4.1-1\\Julia-1.4.1\\share\\julia\\stdlib\\v1.4\\LinearAlgebra\\src\\hessenberg.jl:340</a></li> <li> copy(F::<b>LinearAlgebra.Schur</b>) in LinearAlgebra at <a href=\"file://C:/Users/julia/AppData/Local/Julia-1.4.1/share/julia/stdlib/v1.4/LinearAlgebra/src/schur.jl\" target=\"_blank\">C:\\Users\\Asus S\\AppData\\Local\\JuliaPro-1.4.1-1\\Julia-1.4.1\\share\\julia\\stdlib\\v1.4\\LinearAlgebra\\src\\schur.jl:348</a></li> <li> copy(F::<b>LinearAlgebra.GeneralizedSchur</b>) in LinearAlgebra at <a href=\"file://C:/Users/julia/AppData/Local/Julia-1.4.1/share/julia/stdlib/v1.4/LinearAlgebra/src/schur.jl\" target=\"_blank\">C:\\Users\\Asus S\\AppData\\Local\\JuliaPro-1.4.1-1\\Julia-1.4.1\\share\\julia\\stdlib\\v1.4\\LinearAlgebra\\src\\schur.jl:349</a></li> <li> copy(ctx::<b>T</b>)<i> where T<:SHA.SHA1_CTX</i> in SHA at <a href=\"file://C:/Users/julia/AppData/Local/Julia-1.4.1/share/julia/stdlib/v1.4/SHA/src/types.jl\" target=\"_blank\">C:\\Users\\Asus S\\AppData\\Local\\JuliaPro-1.4.1-1\\Julia-1.4.1\\share\\julia\\stdlib\\v1.4\\SHA\\src\\types.jl:136</a></li> <li> copy(ctx::<b>T</b>)<i> where T<:SHA.SHA2_CTX</i> in SHA at <a href=\"file://C:/Users/julia/AppData/Local/Julia-1.4.1/share/julia/stdlib/v1.4/SHA/src/types.jl\" target=\"_blank\">C:\\Users\\Asus S\\AppData\\Local\\JuliaPro-1.4.1-1\\Julia-1.4.1\\share\\julia\\stdlib\\v1.4\\SHA\\src\\types.jl:137</a></li> <li> copy(ctx::<b>T</b>)<i> where T<:SHA.SHA3_CTX</i> in SHA at <a href=\"file://C:/Users/julia/AppData/Local/Julia-1.4.1/share/julia/stdlib/v1.4/SHA/src/types.jl\" target=\"_blank\">C:\\Users\\Asus S\\AppData\\Local\\JuliaPro-1.4.1-1\\Julia-1.4.1\\share\\julia\\stdlib\\v1.4\\SHA\\src\\types.jl:138</a></li> <li> copy(F::<b>SuiteSparse.CHOLMOD.Factor{Tv}</b>)<i> where Tv<:Union{Complex{Float64}, Float64}</i> in SuiteSparse.CHOLMOD at <a href=\"file://C:/Users/julia/AppData/Local/Julia-1.4.1/share/julia/stdlib/v1.4/SuiteSparse/src/cholmod.jl\" target=\"_blank\">C:\\Users\\Asus S\\AppData\\Local\\JuliaPro-1.4.1-1\\Julia-1.4.1\\share\\julia\\stdlib\\v1.4\\SuiteSparse\\src\\cholmod.jl:582</a></li> <li> copy(md::<b>MbedTLS.MD</b>) in MbedTLS at <a href=\"file://C:/Users/Asus S/.juliapro/JuliaPro_v1.4.1-1/packages/MbedTLS/a1JFn/src/md.jl\" target=\"_blank\">C:\\Users\\Asus S\\.juliapro\\JuliaPro_v1.4.1-1\\packages\\MbedTLS\\a1JFn\\src\\md.jl:93</a></li> </ul>"
      ],
      "text/plain": [
       "# 92 methods for generic function \"copy\":\n",
       "[1] copy(e::Expr) in Base at expr.jl:36\n",
       "[2] copy(c::Core.CodeInfo) in Base at expr.jl:64\n",
       "[3] copy(s1::BitSet) in Base at bitset.jl:46\n",
       "[4] copy(src::Random.DSFMT.DSFMT_state) in Random.DSFMT at C:\\Users\\Asus S\\AppData\\Local\\JuliaPro-1.4.1-1\\Julia-1.4.1\\share\\julia\\stdlib\\v1.4\\Random\\src\\DSFMT.jl:38\n",
       "[5] copy(f::Random.DSFMT.GF2X) in Random.DSFMT at C:\\Users\\Asus S\\AppData\\Local\\JuliaPro-1.4.1-1\\Julia-1.4.1\\share\\julia\\stdlib\\v1.4\\Random\\src\\DSFMT.jl:111\n",
       "[6] copy(src::Random.MersenneTwister) in Random at C:\\Users\\Asus S\\AppData\\Local\\JuliaPro-1.4.1-1\\Julia-1.4.1\\share\\julia\\stdlib\\v1.4\\Random\\src\\RNGs.jl:152\n",
       "[7] copy(::Random._GLOBAL_RNG) in Random at C:\\Users\\Asus S\\AppData\\Local\\JuliaPro-1.4.1-1\\Julia-1.4.1\\share\\julia\\stdlib\\v1.4\\Random\\src\\RNGs.jl:324\n",
       "[8] copy(md::Markdown.MD) in Markdown at C:\\Users\\Asus S\\AppData\\Local\\JuliaPro-1.4.1-1\\Julia-1.4.1\\share\\julia\\stdlib\\v1.4\\Markdown\\src\\parse\\parse.jl:30\n",
       "[9] copy(B::LinearAlgebra.Adjoint{Bool,BitArray{2}}) in LinearAlgebra at C:\\Users\\Asus S\\AppData\\Local\\JuliaPro-1.4.1-1\\Julia-1.4.1\\share\\julia\\stdlib\\v1.4\\LinearAlgebra\\src\\bitarray.jl:225\n",
       "[10] copy(B::LinearAlgebra.Transpose{Bool,BitArray{2}}) in LinearAlgebra at C:\\Users\\Asus S\\AppData\\Local\\JuliaPro-1.4.1-1\\Julia-1.4.1\\share\\julia\\stdlib\\v1.4\\LinearAlgebra\\src\\bitarray.jl:226\n",
       "[11] copy(vs::Pkg.Types.VersionSpec) in Pkg.Types at C:\\Users\\Asus S\\AppData\\Local\\JuliaPro-1.4.1-1\\Julia-1.4.1\\share\\julia\\stdlib\\v1.4\\Pkg\\src\\versions.jl:208\n",
       "[12] copy(data::Pkg.Resolve.GraphData) in Pkg.Resolve at C:\\Users\\Asus S\\AppData\\Local\\JuliaPro-1.4.1-1\\Julia-1.4.1\\share\\julia\\stdlib\\v1.4\\Pkg\\src\\Resolve\\graphtype.jl:165\n",
       "[13] copy(graph::Pkg.Resolve.Graph) in Pkg.Resolve at C:\\Users\\Asus S\\AppData\\Local\\JuliaPro-1.4.1-1\\Julia-1.4.1\\share\\julia\\stdlib\\v1.4\\Pkg\\src\\Resolve\\graphtype.jl:373\n",
       "[14] copy(a::Pkg.Resolve.VersionWeight) in Pkg.Resolve at C:\\Users\\Asus S\\AppData\\Local\\JuliaPro-1.4.1-1\\Julia-1.4.1\\share\\julia\\stdlib\\v1.4\\Pkg\\src\\Resolve\\versionweights.jl:39\n",
       "[15] copy(a::Pkg.Resolve.FieldValue) in Pkg.Resolve at C:\\Users\\Asus S\\AppData\\Local\\JuliaPro-1.4.1-1\\Julia-1.4.1\\share\\julia\\stdlib\\v1.4\\Pkg\\src\\Resolve\\fieldvalues.jl:63\n",
       "[16] copy(r::AbstractRange) in Base at range.jl:582\n",
       "[17] copy(x::Number) in Base at number.jl:88\n",
       "[18] copy(a::T) where T<:Array in Base at array.jl:352\n",
       "[19] copy(a::SubArray{#s664,#s663,#s662,I,L} where L where I where #s662<:Union{SparseArrays.AbstractSparseMatrixCSC, SparseArrays.SparseVector} where #s663 where #s664) in SparseArrays at C:\\Users\\Asus S\\AppData\\Local\\JuliaPro-1.4.1-1\\Julia-1.4.1\\share\\julia\\stdlib\\v1.4\\SparseArrays\\src\\sparsevector.jl:702\n",
       "[20] copy(V::SubArray) in Base at subarray.jl:77\n",
       "[21] copy(S::LinearAlgebra.Transpose{#s664,#s663} where #s663<:LinearAlgebra.SymTridiagonal where #s664) in LinearAlgebra at C:\\Users\\Asus S\\AppData\\Local\\JuliaPro-1.4.1-1\\Julia-1.4.1\\share\\julia\\stdlib\\v1.4\\LinearAlgebra\\src\\tridiag.jl:140\n",
       "[22] copy(tS::LinearAlgebra.Transpose{#s664,#s663} where #s663<:LinearAlgebra.Tridiagonal where #s664) in LinearAlgebra at C:\\Users\\Asus S\\AppData\\Local\\JuliaPro-1.4.1-1\\Julia-1.4.1\\share\\julia\\stdlib\\v1.4\\LinearAlgebra\\src\\tridiag.jl:552\n",
       "[23] copy(A::LinearAlgebra.Transpose{#s664,#s663} where #s663<:LinearAlgebra.LowerTriangular where #s664) in LinearAlgebra at C:\\Users\\Asus S\\AppData\\Local\\JuliaPro-1.4.1-1\\Julia-1.4.1\\share\\julia\\stdlib\\v1.4\\LinearAlgebra\\src\\triangular.jl:400\n",
       "[24] copy(A::LinearAlgebra.Transpose{#s664,#s663} where #s663<:LinearAlgebra.UpperTriangular where #s664) in LinearAlgebra at C:\\Users\\Asus S\\AppData\\Local\\JuliaPro-1.4.1-1\\Julia-1.4.1\\share\\julia\\stdlib\\v1.4\\LinearAlgebra\\src\\triangular.jl:401\n",
       "[25] copy(A::LinearAlgebra.Transpose{#s664,#s663} where #s663<:LinearAlgebra.UnitLowerTriangular where #s664) in LinearAlgebra at C:\\Users\\Asus S\\AppData\\Local\\JuliaPro-1.4.1-1\\Julia-1.4.1\\share\\julia\\stdlib\\v1.4\\LinearAlgebra\\src\\triangular.jl:402\n",
       "[26] copy(A::LinearAlgebra.Transpose{#s664,#s663} where #s663<:LinearAlgebra.UnitUpperTriangular where #s664) in LinearAlgebra at C:\\Users\\Asus S\\AppData\\Local\\JuliaPro-1.4.1-1\\Julia-1.4.1\\share\\julia\\stdlib\\v1.4\\LinearAlgebra\\src\\triangular.jl:403\n",
       "[27] copy(A::LinearAlgebra.Transpose{#s664,#s663} where #s663<:LinearAlgebra.Symmetric where #s664) in LinearAlgebra at C:\\Users\\Asus S\\AppData\\Local\\JuliaPro-1.4.1-1\\Julia-1.4.1\\share\\julia\\stdlib\\v1.4\\LinearAlgebra\\src\\symmetric.jl:357\n",
       "[28] copy(A::LinearAlgebra.Transpose{#s664,#s663} where #s663<:LinearAlgebra.Hermitian where #s664) in LinearAlgebra at C:\\Users\\Asus S\\AppData\\Local\\JuliaPro-1.4.1-1\\Julia-1.4.1\\share\\julia\\stdlib\\v1.4\\LinearAlgebra\\src\\symmetric.jl:360\n",
       "[29] copy(tB::LinearAlgebra.Transpose{#s664,#s663} where #s663<:LinearAlgebra.Bidiagonal where #s664) in LinearAlgebra at C:\\Users\\Asus S\\AppData\\Local\\JuliaPro-1.4.1-1\\Julia-1.4.1\\share\\julia\\stdlib\\v1.4\\LinearAlgebra\\src\\bidiag.jl:245\n",
       "[30] copy(A::LinearAlgebra.Transpose{#s664,#s663} where #s663<:LinearAlgebra.UpperHessenberg where #s664) in LinearAlgebra at C:\\Users\\Asus S\\AppData\\Local\\JuliaPro-1.4.1-1\\Julia-1.4.1\\share\\julia\\stdlib\\v1.4\\LinearAlgebra\\src\\hessenberg.jl:91\n",
       "[31] copy(A::LinearAlgebra.Transpose{#s664,#s663} where #s663<:SparseArrays.AbstractSparseMatrixCSC where #s664) in SparseArrays at C:\\Users\\Asus S\\AppData\\Local\\JuliaPro-1.4.1-1\\Julia-1.4.1\\share\\julia\\stdlib\\v1.4\\SparseArrays\\src\\sparsematrix.jl:960\n",
       "[32] copy(A::LinearAlgebra.Transpose{#s664,#s663} where #s663<:(AbstractArray{T,2} where T) where #s664) in LinearAlgebra at C:\\Users\\Asus S\\AppData\\Local\\JuliaPro-1.4.1-1\\Julia-1.4.1\\share\\julia\\stdlib\\v1.4\\LinearAlgebra\\src\\transpose.jl:178\n",
       "[33] copy(S::LinearAlgebra.Adjoint{#s664,#s663} where #s663<:LinearAlgebra.SymTridiagonal where #s664) in LinearAlgebra at C:\\Users\\Asus S\\AppData\\Local\\JuliaPro-1.4.1-1\\Julia-1.4.1\\share\\julia\\stdlib\\v1.4\\LinearAlgebra\\src\\tridiag.jl:139\n",
       "[34] copy(aS::LinearAlgebra.Adjoint{#s664,#s663} where #s663<:LinearAlgebra.Tridiagonal where #s664) in LinearAlgebra at C:\\Users\\Asus S\\AppData\\Local\\JuliaPro-1.4.1-1\\Julia-1.4.1\\share\\julia\\stdlib\\v1.4\\LinearAlgebra\\src\\tridiag.jl:551\n",
       "[35] copy(A::LinearAlgebra.Adjoint{#s664,#s663} where #s663<:LinearAlgebra.LowerTriangular where #s664) in LinearAlgebra at C:\\Users\\Asus S\\AppData\\Local\\JuliaPro-1.4.1-1\\Julia-1.4.1\\share\\julia\\stdlib\\v1.4\\LinearAlgebra\\src\\triangular.jl:396\n",
       "[36] copy(A::LinearAlgebra.Adjoint{#s664,#s663} where #s663<:LinearAlgebra.UpperTriangular where #s664) in LinearAlgebra at C:\\Users\\Asus S\\AppData\\Local\\JuliaPro-1.4.1-1\\Julia-1.4.1\\share\\julia\\stdlib\\v1.4\\LinearAlgebra\\src\\triangular.jl:397\n",
       "[37] copy(A::LinearAlgebra.Adjoint{#s664,#s663} where #s663<:LinearAlgebra.UnitLowerTriangular where #s664) in LinearAlgebra at C:\\Users\\Asus S\\AppData\\Local\\JuliaPro-1.4.1-1\\Julia-1.4.1\\share\\julia\\stdlib\\v1.4\\LinearAlgebra\\src\\triangular.jl:398\n",
       "[38] copy(A::LinearAlgebra.Adjoint{#s664,#s663} where #s663<:LinearAlgebra.UnitUpperTriangular where #s664) in LinearAlgebra at C:\\Users\\Asus S\\AppData\\Local\\JuliaPro-1.4.1-1\\Julia-1.4.1\\share\\julia\\stdlib\\v1.4\\LinearAlgebra\\src\\triangular.jl:399\n",
       "[39] copy(A::LinearAlgebra.Adjoint{#s664,#s663} where #s663<:LinearAlgebra.Hermitian where #s664) in LinearAlgebra at C:\\Users\\Asus S\\AppData\\Local\\JuliaPro-1.4.1-1\\Julia-1.4.1\\share\\julia\\stdlib\\v1.4\\LinearAlgebra\\src\\symmetric.jl:356\n",
       "[40] copy(A::LinearAlgebra.Adjoint{#s664,#s663} where #s663<:LinearAlgebra.Symmetric where #s664) in LinearAlgebra at C:\\Users\\Asus S\\AppData\\Local\\JuliaPro-1.4.1-1\\Julia-1.4.1\\share\\julia\\stdlib\\v1.4\\LinearAlgebra\\src\\symmetric.jl:358\n",
       "[41] copy(aB::LinearAlgebra.Adjoint{#s664,#s663} where #s663<:LinearAlgebra.Bidiagonal where #s664) in LinearAlgebra at C:\\Users\\Asus S\\AppData\\Local\\JuliaPro-1.4.1-1\\Julia-1.4.1\\share\\julia\\stdlib\\v1.4\\LinearAlgebra\\src\\bidiag.jl:241\n",
       "[42] copy(A::LinearAlgebra.Adjoint{#s664,#s663} where #s663<:LinearAlgebra.UpperHessenberg where #s664) in LinearAlgebra at C:\\Users\\Asus S\\AppData\\Local\\JuliaPro-1.4.1-1\\Julia-1.4.1\\share\\julia\\stdlib\\v1.4\\LinearAlgebra\\src\\hessenberg.jl:90\n",
       "[43] copy(A::LinearAlgebra.Adjoint{#s664,#s663} where #s663<:SparseArrays.AbstractSparseMatrixCSC where #s664) in SparseArrays at C:\\Users\\Asus S\\AppData\\Local\\JuliaPro-1.4.1-1\\Julia-1.4.1\\share\\julia\\stdlib\\v1.4\\SparseArrays\\src\\sparsematrix.jl:958\n",
       "[44] copy(A::LinearAlgebra.Adjoint{#s664,#s663} where #s663<:(AbstractArray{T,2} where T) where #s664) in LinearAlgebra at C:\\Users\\Asus S\\AppData\\Local\\JuliaPro-1.4.1-1\\Julia-1.4.1\\share\\julia\\stdlib\\v1.4\\LinearAlgebra\\src\\transpose.jl:179\n",
       "[45] copy(M::LinearAlgebra.SymTridiagonal) in LinearAlgebra at C:\\Users\\Asus S\\AppData\\Local\\JuliaPro-1.4.1-1\\Julia-1.4.1\\share\\julia\\stdlib\\v1.4\\LinearAlgebra\\src\\tridiag.jl:133\n",
       "[46] copy(M::LinearAlgebra.Tridiagonal) in LinearAlgebra at C:\\Users\\Asus S\\AppData\\Local\\JuliaPro-1.4.1-1\\Julia-1.4.1\\share\\julia\\stdlib\\v1.4\\LinearAlgebra\\src\\tridiag.jl:543\n",
       "[47] copy(A::LinearAlgebra.LowerTriangular) in LinearAlgebra at C:\\Users\\Asus S\\AppData\\Local\\JuliaPro-1.4.1-1\\Julia-1.4.1\\share\\julia\\stdlib\\v1.4\\LinearAlgebra\\src\\triangular.jl:46\n",
       "[48] copy(A::LinearAlgebra.UnitLowerTriangular) in LinearAlgebra at C:\\Users\\Asus S\\AppData\\Local\\JuliaPro-1.4.1-1\\Julia-1.4.1\\share\\julia\\stdlib\\v1.4\\LinearAlgebra\\src\\triangular.jl:46\n",
       "[49] copy(A::LinearAlgebra.UpperTriangular) in LinearAlgebra at C:\\Users\\Asus S\\AppData\\Local\\JuliaPro-1.4.1-1\\Julia-1.4.1\\share\\julia\\stdlib\\v1.4\\LinearAlgebra\\src\\triangular.jl:46\n",
       "[50] copy(A::LinearAlgebra.UnitUpperTriangular) in LinearAlgebra at C:\\Users\\Asus S\\AppData\\Local\\JuliaPro-1.4.1-1\\Julia-1.4.1\\share\\julia\\stdlib\\v1.4\\LinearAlgebra\\src\\triangular.jl:46\n",
       "[51] copy(F::LinearAlgebra.Adjoint{T,#s664} where #s664<:(LinearAlgebra.LQ{T,S} where S<:AbstractArray{T,2})) where T in LinearAlgebra at C:\\Users\\Asus S\\AppData\\Local\\JuliaPro-1.4.1-1\\Julia-1.4.1\\share\\julia\\stdlib\\v1.4\\LinearAlgebra\\src\\lq.jl:122\n",
       "[52] copy(A::LinearAlgebra.Symmetric{T,S}) where {T, S} in LinearAlgebra at C:\\Users\\Asus S\\AppData\\Local\\JuliaPro-1.4.1-1\\Julia-1.4.1\\share\\julia\\stdlib\\v1.4\\LinearAlgebra\\src\\symmetric.jl:278\n",
       "[53] copy(A::LinearAlgebra.Hermitian{T,S}) where {T, S} in LinearAlgebra at C:\\Users\\Asus S\\AppData\\Local\\JuliaPro-1.4.1-1\\Julia-1.4.1\\share\\julia\\stdlib\\v1.4\\LinearAlgebra\\src\\symmetric.jl:279\n",
       "[54] copy(M::LinearAlgebra.Bidiagonal) in LinearAlgebra at C:\\Users\\Asus S\\AppData\\Local\\JuliaPro-1.4.1-1\\Julia-1.4.1\\share\\julia\\stdlib\\v1.4\\LinearAlgebra\\src\\bidiag.jl:233\n",
       "[55] copy(H::LinearAlgebra.UpperHessenberg) in LinearAlgebra at C:\\Users\\Asus S\\AppData\\Local\\JuliaPro-1.4.1-1\\Julia-1.4.1\\share\\julia\\stdlib\\v1.4\\LinearAlgebra\\src\\hessenberg.jl:63\n",
       "[56] copy(aG::LinearAlgebra.Adjoint{#s664,#s663} where #s663<:LinearAlgebra.Givens where #s664) in LinearAlgebra at C:\\Users\\Asus S\\AppData\\Local\\JuliaPro-1.4.1-1\\Julia-1.4.1\\share\\julia\\stdlib\\v1.4\\LinearAlgebra\\src\\givens.jl:59\n",
       "[57] copy(aR::LinearAlgebra.Adjoint{#s664,LinearAlgebra.Rotation{T}} where #s664) where T in LinearAlgebra at C:\\Users\\Asus S\\AppData\\Local\\JuliaPro-1.4.1-1\\Julia-1.4.1\\share\\julia\\stdlib\\v1.4\\LinearAlgebra\\src\\givens.jl:62\n",
       "[58] copy(ra::Base.ReshapedArray{#s664,2,#s663,MI} where MI<:Tuple{Vararg{Base.MultiplicativeInverses.SignedMultiplicativeInverse{Int64},N} where N} where #s663<:SparseArrays.AbstractSparseMatrixCSC where #s664) in SparseArrays at C:\\Users\\Asus S\\AppData\\Local\\JuliaPro-1.4.1-1\\Julia-1.4.1\\share\\julia\\stdlib\\v1.4\\SparseArrays\\src\\sparsematrix.jl:286\n",
       "[59] copy(S::SparseArrays.AbstractSparseMatrixCSC) in SparseArrays at C:\\Users\\Asus S\\AppData\\Local\\JuliaPro-1.4.1-1\\Julia-1.4.1\\share\\julia\\stdlib\\v1.4\\SparseArrays\\src\\sparsematrix.jl:306\n",
       "[60] copy(A::SuiteSparse.CHOLMOD.Sparse{Tv}) where Tv<:Union{Complex{Float64}, Float64} in SuiteSparse.CHOLMOD at C:\\Users\\Asus S\\AppData\\Local\\JuliaPro-1.4.1-1\\Julia-1.4.1\\share\\julia\\stdlib\\v1.4\\SuiteSparse\\src\\cholmod.jl:588\n",
       "[61] copy(A::SuiteSparse.CHOLMOD.Sparse{Tv}, stype::Integer, mode::Integer) where Tv<:Float64 in SuiteSparse.CHOLMOD at C:\\Users\\Asus S\\AppData\\Local\\JuliaPro-1.4.1-1\\Julia-1.4.1\\share\\julia\\stdlib\\v1.4\\SuiteSparse\\src\\cholmod.jl:594\n",
       "[62] copy(x::SparseArrays.AbstractSparseArray{Tv,Ti,1} where Ti where Tv) in SparseArrays at C:\\Users\\Asus S\\AppData\\Local\\JuliaPro-1.4.1-1\\Julia-1.4.1\\share\\julia\\stdlib\\v1.4\\SparseArrays\\src\\sparsevector.jl:913\n",
       "[63] copy(A::SuiteSparse.CHOLMOD.Dense{Tv}) where Tv<:Union{Complex{Float64}, Float64} in SuiteSparse.CHOLMOD at C:\\Users\\Asus S\\AppData\\Local\\JuliaPro-1.4.1-1\\Julia-1.4.1\\share\\julia\\stdlib\\v1.4\\SuiteSparse\\src\\cholmod.jl:447\n",
       "[64] copy(a::AbstractArray) in Base at abstractarray.jl:847\n",
       "[65] copy(d::IdDict) in Base at abstractdict.jl:648\n",
       "[66] copy(d::Dict) in Base at dict.jl:119\n",
       "[67] copy(d::WeakKeyDict) in Base at weakkeydict.jl:53\n",
       "[68] copy(a::AbstractDict) in Base at abstractdict.jl:153\n",
       "[69] copy(s::Base.IdSet) in Base at abstractdict.jl:687\n",
       "[70] copy(s::Set) in Base at set.jl:59\n",
       "[71] copy(b::Base.GenericIOBuffer) in Base at iobuffer.jl:141\n",
       "[72] copy(bc::Base.Broadcast.Broadcasted{Style,Axes,F,Args} where Args<:Tuple{Union{SparseArrays.AbstractSparseMatrixCSC, SparseArrays.SparseVector}} where F where Axes where Style<:Union{SparseArrays.HigherOrderFns.SparseMatStyle, SparseArrays.HigherOrderFns.SparseVecStyle}) in SparseArrays.HigherOrderFns at C:\\Users\\Asus S\\AppData\\Local\\JuliaPro-1.4.1-1\\Julia-1.4.1\\share\\julia\\stdlib\\v1.4\\SparseArrays\\src\\higherorderfns.jl:169\n",
       "[73] copy(bc::Base.Broadcast.Broadcasted{SparseArrays.HigherOrderFns.PromoteToSparse,Axes,F,Args} where Args<:Tuple where F where Axes) in SparseArrays.HigherOrderFns at C:\\Users\\Asus S\\AppData\\Local\\JuliaPro-1.4.1-1\\Julia-1.4.1\\share\\julia\\stdlib\\v1.4\\SparseArrays\\src\\higherorderfns.jl:1127\n",
       "[74] copy(bc::Base.Broadcast.Broadcasted{#s664,Axes,F,Args} where Args<:Tuple where F where Axes where #s664<:Union{SparseArrays.HigherOrderFns.SparseMatStyle, SparseArrays.HigherOrderFns.SparseVecStyle}) in SparseArrays.HigherOrderFns at C:\\Users\\Asus S\\AppData\\Local\\JuliaPro-1.4.1-1\\Julia-1.4.1\\share\\julia\\stdlib\\v1.4\\SparseArrays\\src\\higherorderfns.jl:1010\n",
       "[75] copy(bc::Base.Broadcast.Broadcasted{#s664,Axes,F,Args} where Args<:Tuple where F where Axes where #s664<:Base.Broadcast.AbstractArrayStyle{0}) in Base.Broadcast at broadcast.jl:830\n",
       "[76] copy(bc::Base.Broadcast.Broadcasted{Base.Broadcast.Style{Tuple},Axes,F,Args} where Args<:Tuple where F where Axes) in Base.Broadcast at broadcast.jl:1021\n",
       "[77] copy(bc::Base.Broadcast.Broadcasted{#s664,Axes,F,Args} where Args<:Tuple where F where Axes where #s664<:Union{Base.Broadcast.Unknown, Nothing}) in Base.Broadcast at broadcast.jl:831\n",
       "[78] copy(bc::Base.Broadcast.Broadcasted{Style,Axes,F,Args} where Args<:Tuple where F where Axes) where Style in Base.Broadcast at broadcast.jl:837\n",
       "[79] copy(A::LinearAlgebra.LQ) in LinearAlgebra at C:\\Users\\Asus S\\AppData\\Local\\JuliaPro-1.4.1-1\\Julia-1.4.1\\share\\julia\\stdlib\\v1.4\\LinearAlgebra\\src\\lq.jl:111\n",
       "[80] copy(C::LinearAlgebra.Cholesky) in LinearAlgebra at C:\\Users\\Asus S\\AppData\\Local\\JuliaPro-1.4.1-1\\Julia-1.4.1\\share\\julia\\stdlib\\v1.4\\LinearAlgebra\\src\\cholesky.jl:406\n",
       "[81] copy(C::LinearAlgebra.CholeskyPivoted) in LinearAlgebra at C:\\Users\\Asus S\\AppData\\Local\\JuliaPro-1.4.1-1\\Julia-1.4.1\\share\\julia\\stdlib\\v1.4\\LinearAlgebra\\src\\cholesky.jl:407\n",
       "[82] copy(A::LinearAlgebra.LU{T,S}) where {T, S} in LinearAlgebra at C:\\Users\\Asus S\\AppData\\Local\\JuliaPro-1.4.1-1\\Julia-1.4.1\\share\\julia\\stdlib\\v1.4\\LinearAlgebra\\src\\lu.jl:291\n",
       "[83] copy(J::LinearAlgebra.UniformScaling) in LinearAlgebra at C:\\Users\\Asus S\\AppData\\Local\\JuliaPro-1.4.1-1\\Julia-1.4.1\\share\\julia\\stdlib\\v1.4\\LinearAlgebra\\src\\uniformscaling.jl:88\n",
       "[84] copy(F::LinearAlgebra.Hessenberg{#s664,#s663,S,W,V} where V<:Number where W<:(AbstractArray{T,1} where T) where S<:(AbstractArray{T,2} where T) where #s663<:LinearAlgebra.UpperHessenberg where #s664) in LinearAlgebra at C:\\Users\\Asus S\\AppData\\Local\\JuliaPro-1.4.1-1\\Julia-1.4.1\\share\\julia\\stdlib\\v1.4\\LinearAlgebra\\src\\hessenberg.jl:339\n",
       "[85] copy(F::LinearAlgebra.Hessenberg{#s664,#s663,S,W,V} where V<:Number where W<:(AbstractArray{T,1} where T) where S<:(AbstractArray{T,2} where T) where #s663<:LinearAlgebra.SymTridiagonal where #s664) in LinearAlgebra at C:\\Users\\Asus S\\AppData\\Local\\JuliaPro-1.4.1-1\\Julia-1.4.1\\share\\julia\\stdlib\\v1.4\\LinearAlgebra\\src\\hessenberg.jl:340\n",
       "[86] copy(F::LinearAlgebra.Schur) in LinearAlgebra at C:\\Users\\Asus S\\AppData\\Local\\JuliaPro-1.4.1-1\\Julia-1.4.1\\share\\julia\\stdlib\\v1.4\\LinearAlgebra\\src\\schur.jl:348\n",
       "[87] copy(F::LinearAlgebra.GeneralizedSchur) in LinearAlgebra at C:\\Users\\Asus S\\AppData\\Local\\JuliaPro-1.4.1-1\\Julia-1.4.1\\share\\julia\\stdlib\\v1.4\\LinearAlgebra\\src\\schur.jl:349\n",
       "[88] copy(ctx::T) where T<:SHA.SHA1_CTX in SHA at C:\\Users\\Asus S\\AppData\\Local\\JuliaPro-1.4.1-1\\Julia-1.4.1\\share\\julia\\stdlib\\v1.4\\SHA\\src\\types.jl:136\n",
       "[89] copy(ctx::T) where T<:SHA.SHA2_CTX in SHA at C:\\Users\\Asus S\\AppData\\Local\\JuliaPro-1.4.1-1\\Julia-1.4.1\\share\\julia\\stdlib\\v1.4\\SHA\\src\\types.jl:137\n",
       "[90] copy(ctx::T) where T<:SHA.SHA3_CTX in SHA at C:\\Users\\Asus S\\AppData\\Local\\JuliaPro-1.4.1-1\\Julia-1.4.1\\share\\julia\\stdlib\\v1.4\\SHA\\src\\types.jl:138\n",
       "[91] copy(F::SuiteSparse.CHOLMOD.Factor{Tv}) where Tv<:Union{Complex{Float64}, Float64} in SuiteSparse.CHOLMOD at C:\\Users\\Asus S\\AppData\\Local\\JuliaPro-1.4.1-1\\Julia-1.4.1\\share\\julia\\stdlib\\v1.4\\SuiteSparse\\src\\cholmod.jl:582\n",
       "[92] copy(md::MbedTLS.MD) in MbedTLS at C:\\Users\\Asus S\\.juliapro\\JuliaPro_v1.4.1-1\\packages\\MbedTLS\\a1JFn\\src\\md.jl:93"
      ]
     },
     "execution_count": 22,
     "metadata": {},
     "output_type": "execute_result"
    }
   ],
   "source": [
    "methods(copy) # pretty self explanatory"
   ]
  },
  {
   "cell_type": "code",
   "execution_count": 29,
   "metadata": {
    "ExecuteTime": {
     "end_time": "2020-05-12T18:07:03.220000+02:00",
     "start_time": "2020-05-12T16:07:03.217Z"
    },
    "hidden": true
   },
   "outputs": [
    {
     "data": {
      "text/plain": [
       "(:parent, :indices, :offset1, :stride1)"
      ]
     },
     "execution_count": 29,
     "metadata": {},
     "output_type": "execute_result"
    }
   ],
   "source": [
    "# finding a type's fields? what are fields ? -> \n",
    "\n",
    "fieldnames(SubArray)"
   ]
  },
  {
   "cell_type": "code",
   "execution_count": 31,
   "metadata": {
    "ExecuteTime": {
     "end_time": "2020-05-12T18:07:50.469000+02:00",
     "start_time": "2020-05-12T16:07:50.465Z"
    },
    "hidden": true
   },
   "outputs": [
    {
     "data": {
      "text/html": [
       "broadcast(f::<b>Tf</b>, As...)<i> where Tf</i> in Base.Broadcast at <a href=\"https://github.com/JuliaLang/julia/tree/381693d3dfc9b7072707f6d544f82f6637fc5e7c/base/broadcast.jl#L758\" target=\"_blank\">broadcast.jl:758</a>"
      ],
      "text/plain": [
       "broadcast(f::Tf, As...) where Tf in Base.Broadcast at broadcast.jl:758"
      ]
     },
     "execution_count": 31,
     "metadata": {},
     "output_type": "execute_result"
    }
   ],
   "source": [
    "# finging out whih method is used when calling a function\n",
    "@which broadcast(+, 2:5, 5:10) "
   ]
  },
  {
   "cell_type": "code",
   "execution_count": 33,
   "metadata": {
    "ExecuteTime": {
     "end_time": "2020-05-12T18:08:16.684000+02:00",
     "start_time": "2020-05-12T16:08:16.680Z"
    },
    "hidden": true
   },
   "outputs": [
    {
     "data": {
      "text/plain": [
       "Array{Int64,1}"
      ]
     },
     "execution_count": 33,
     "metadata": {},
     "output_type": "execute_result"
    }
   ],
   "source": [
    "# and ofc a very simple way of finding what the type is\n",
    "typeof([1;2;3])"
   ]
  },
  {
   "cell_type": "markdown",
   "metadata": {
    "hidden": true
   },
   "source": [
    "### Strict typing and stuff\n",
    "To achieve C/Fortran speed, Julia needs to be type strict - having a function work with a specific Type only. That's why functions have multiple methods - to cover all the combinations of types. (multiple-dispatch)\n",
    "\n",
    "Writing stable functions is a must to achieve good performance. \\\n",
    "A way of checking whether a function is type-stable is using the macro \\\n",
    "@code_warntype \\\n",
    "To see where our type-stability goes wrong. \\\n",
    "To be even more specific we can use Traceur.jl \\\n",
    "\\\n",
    "using Traceur \\\n",
    "@trace \\\n",
    "-> returns what the return type is, and then we can see if this aligns with what we planned"
   ]
  },
  {
   "cell_type": "markdown",
   "metadata": {
    "heading_collapsed": true,
    "hidden": true
   },
   "source": [
    "### Global variables - scopes\n",
    "\n",
    "Julia deals terribly with globals. \n",
    "\n",
    "If we do this for example. \\\n",
    "a = 3 \\\n",
    "function = badIdea() \\\n",
    "....a + 2 \\\n",
    "end \\\n",
    "a = 3.0 \n",
    "\n",
    "Now, a is not type-stable, so at compile time, Julia doesn't know which type a is and since badIdea() is not specialized, we get unoptimized performance... \\\n",
    "\n",
    "To work around this, we can define constants (const) that let's Julia know what type the function will be using. \\\n",
    "\n",
    "\"This is a very easy problem to fall for: don't benchmark or time things \\\n",
    "on the REPL's global scope. Always wrap things in a function or declare them as const.\""
   ]
  },
  {
   "cell_type": "code",
   "execution_count": 38,
   "metadata": {
    "ExecuteTime": {
     "end_time": "2020-05-12T18:09:50.083000+02:00",
     "start_time": "2020-05-12T16:09:50.081Z"
    },
    "hidden": true
   },
   "outputs": [
    {
     "data": {
      "text/plain": [
       "5-element Array{Float64,1}:\n",
       " 1.905623054e-315\n",
       " 7.755867e-316\n",
       " 7.755867e-316\n",
       " 7.755867e-316\n",
       " 1.90562266e-315"
      ]
     },
     "execution_count": 38,
     "metadata": {},
     "output_type": "execute_result"
    }
   ],
   "source": [
    "# Creating a length 5 vector, with undefined values\n",
    "a = Vector{Float64}(undef,5)"
   ]
  },
  {
   "cell_type": "code",
   "execution_count": 36,
   "metadata": {
    "ExecuteTime": {
     "end_time": "2020-05-12T18:09:22.936000+02:00",
     "start_time": "2020-05-12T16:09:22.935Z"
    },
    "hidden": true
   },
   "outputs": [
    {
     "data": {
      "text/plain": [
       "5-element Array{Int64,1}:\n",
       " 1\n",
       " 2\n",
       " 3\n",
       " 4\n",
       " 5"
      ]
     },
     "execution_count": 36,
     "metadata": {},
     "output_type": "execute_result"
    }
   ],
   "source": [
    "a = [1;2;3;4;5] # COLUMN VECTOR - with ;"
   ]
  },
  {
   "cell_type": "code",
   "execution_count": 39,
   "metadata": {
    "ExecuteTime": {
     "end_time": "2020-05-12T18:10:17.468000+02:00",
     "start_time": "2020-05-12T16:10:17.408Z"
    },
    "hidden": true
   },
   "outputs": [
    {
     "data": {
      "text/plain": [
       "1×4 Array{Int64,2}:\n",
       " 1  2  3  4"
      ]
     },
     "execution_count": 39,
     "metadata": {},
     "output_type": "execute_result"
    }
   ],
   "source": [
    "a = [1 2 3 4] # ROW VECTOR - space"
   ]
  },
  {
   "cell_type": "code",
   "execution_count": 40,
   "metadata": {
    "ExecuteTime": {
     "end_time": "2020-05-12T18:10:38.909000+02:00",
     "start_time": "2020-05-12T16:10:38.678Z"
    },
    "hidden": true
   },
   "outputs": [
    {
     "data": {
      "text/plain": [
       "10"
      ]
     },
     "execution_count": 40,
     "metadata": {},
     "output_type": "execute_result"
    }
   ],
   "source": [
    "# changing an element\n",
    "a[2] = 10"
   ]
  },
  {
   "cell_type": "code",
   "execution_count": 42,
   "metadata": {
    "ExecuteTime": {
     "end_time": "2020-05-12T18:11:24.933000+02:00",
     "start_time": "2020-05-12T16:11:24.213Z"
    },
    "hidden": true
   },
   "outputs": [
    {
     "data": {
      "text/plain": [
       "4×2 Array{Float64,2}:\n",
       " 7.75499e-316  7.75499e-316\n",
       " 7.77052e-316  7.75499e-316\n",
       " 7.77052e-316  7.75499e-316\n",
       " 7.75499e-316  1.73781e-315"
      ]
     },
     "execution_count": 42,
     "metadata": {},
     "output_type": "execute_result"
    }
   ],
   "source": [
    "# define an empty matrix\n",
    "b = Matrix{Float64}(undef, 4, 2) # row, column"
   ]
  },
  {
   "cell_type": "code",
   "execution_count": 47,
   "metadata": {
    "ExecuteTime": {
     "end_time": "2020-05-12T18:16:45.734000+02:00",
     "start_time": "2020-05-12T16:16:45.728Z"
    },
    "hidden": true
   },
   "outputs": [
    {
     "data": {
      "text/plain": [
       "4×5×6×7 Array{Float64,4}:\n",
       "[:, :, 1, 1] =\n",
       "  1.21622e-62    3.455e-188      2.67063e-163    1.81704e-130  2.6048e-163\n",
       "  5.55118e-246   2.50053e-265    8.33114e-178  NaN             4.53629e111\n",
       " -3.39154e100    1.43466e-284  NaN               9.58015e-164  1.22467e-225\n",
       "  7.85492e-294  -0.00010686      6.30343e-260    1.22467e-225  3.20668e-289\n",
       "\n",
       "[:, :, 2, 1] =\n",
       " 6.65763e-294  7.8347e-308   5.18223e-281  1.35736e-100  2.9748e-283\n",
       " 1.04484e-163  1.21626e-224  7.46634e-299  1.87991e-293  2.44646e-226\n",
       " 5.18223e-281  1.35735e-100  1.12192e-307  1.48348e-105  6.92625e-293\n",
       " 7.46631e-299  1.04484e-163  1.21626e-224  9.58015e-164  7.79569e-292\n",
       "\n",
       "[:, :, 3, 1] =\n",
       "     -7.22083e-9    -0.000107069   -1.07166e-8    -1.21132e-8   5.24978e-10\n",
       "     -7.45686e-9     4.20066e-309   3.30201e-289   1.54939e58   9.34149e-15\n",
       " 161776.0            2.35386e-293   8.39787e38     6.72635e14   1.2798e-57\n",
       "      5.64095e-293   7.01368e-57    3.24375e-289   1.61143e-83  8.26501e-62\n",
       "\n",
       "[:, :, 4, 1] =\n",
       "   3.06748e-226  1.13419e-168  1.14762e140   1.35552e-308  1.25801e-99\n",
       "   6.92625e-293  9.94278e-262  1.03931e-261  3.29045e-226  8.83907e-159\n",
       " -84.0512        1.3574e-100   2.54111e-265  2.6697e-163   7.53641e144\n",
       "   6.04537e-307  7.42955e-164  3.06748e-226  6.92625e-293  1.20905e-306\n",
       "\n",
       "[:, :, 5, 1] =\n",
       " 7.74638e-217  2.60495e-163  4.69851e-293  1.9594e-306   1.0896e-60\n",
       " 4.69851e-293  5.9436e246    1.44788e-292  8.04776e-85   1.22147e-290\n",
       " 3.69774e-290  9.00239e241   2.93278e260   4.86502e-163  1.61081e-101\n",
       " 1.41442e-293  7.35318e289   2.63032e-99   5.36174e-263  7.26805e-292\n",
       "\n",
       "[:, :, 6, 1] =\n",
       " 1.0806e-162   -0.0102602     131384.0           -3.81144e-221  4.16799e-87\n",
       " 2.08476e251    7.6907e-299        1.13421e-168   3.28429e-226  1.35783e-19\n",
       " 6.26704e-293   2.1017e-284        5.97828e29    -0.0107485     2.25698e-60\n",
       " 1.17693e-293   3.19097e-154      -8.41246e-251   5.03641e-63   5.04353e-63\n",
       "\n",
       "[:, :, 1, 2] =\n",
       "  4.17388e-87  1.37086e-144  2.65941e-163  -2817.64           1.70723e-158\n",
       "  2.4465e-226  4.18173e-87   8.73714e77        2.00581e-305   1.62933e-83\n",
       "  5.24909e-10  1.41104e-100  3.06748e-226      1.13419e-168   5.97828e29\n",
       " -2.41665e111  1.4846e-101   6.92625e-293      9.9279e-262   -3.16961e-82\n",
       "\n",
       "[:, :, 2, 2] =\n",
       "  4.90454e-159   9.74306e-262   1.4961e-305    1.35783e-19   6.31387e-305\n",
       "  1.01484e-292   1.231e-290    -2.55805e20    -2.46436       6.02884e-305\n",
       " -2.16662e-57   -1.71651e-28    1.87597e-130   1.20299e-290  7.2394e-293\n",
       " -9.30523e-48   -7.37237e-19    1.18469e-83    2.61223e275   4.71036e-294\n",
       "\n",
       "[:, :, 3, 2] =\n",
       " 6.88327e-305  -2.41665e111   -2.38595e73     2.4465e-226   1.00811e-261\n",
       " 8.049e-86      1.37086e-144  -2.86654e77     5.24909e-10  -9.77549e115\n",
       " 2.44629e-226   1.03493e-304   2.28821e-261  -2.41665e111  -1.63375e-9\n",
       " 5.24909e-10   -3.49748e48     4.30348e-87   -1.27538e-7    2.60509e-163\n",
       "\n",
       "[:, :, 4, 2] =\n",
       " 1.84201e-304   3.91799e34    -2.73343e203   -0.656632       2.33035e78\n",
       " 1.77539e-304   1.13421e-168   3.28429e-226   2.66989e-163   1.37544e-100\n",
       " 4.86502e-163   5.97828e29    -0.00085489     4.69852e-293   1.35756e-100\n",
       " 2.50364e-88   -5.95878e173    4.25242e-87    1.225e-225    -1.33578e-5\n",
       "\n",
       "[:, :, 5, 2] =\n",
       " -1.90864e-5     1.64601e-83   1.225e-225    1.97864e-293  -1.54185e294\n",
       "  1.35757e-100  -0.000854864   1.20998e112   8.73168e-304   1.1925e-303\n",
       "  1.35757e-100   2.66991e-163  1.37544e-100  1.51983e-101   1.28364e-303\n",
       "  1.34764e-289   4.69852e-293  2.09123e-149  8.83907e-159   9.52846e-262\n",
       "\n",
       "[:, :, 6, 2] =\n",
       " -4.96148e-10   3.49157e-221  2.1647e251    1.32899e-303  -8.97803e168\n",
       "  5.18359e-63   3.69774e-290  6.38005e-202  1.93974e-187   2.74948e-303\n",
       "  5.18597e-63   1.51519e-211  1.49174e-211  3.55406e-111   9.77243e62\n",
       "  7.46348e-294  8.28117e-109  2.56727e-303  9.6512e-110    6.28211e-299\n",
       "\n",
       "[:, :, 1, 3] =\n",
       " 1.46725e-158  -2.75055e-303  4.90285e-120  -3.27391e-5    5.22395e-63\n",
       " 5.43153e-86    5.24893e-10   1.53204e-101  -2.14559       1.16623e-76\n",
       " 7.50462e-299   2.51846e-163  1.53239e-101   7.22733e53    3.13459e-294\n",
       " 7.01902e-92    8.69072e-110  7.62948e-302   7.46748e-299  6.62069e-303\n",
       "\n",
       "[:, :, 2, 3] =\n",
       " 2.53049e-275  8.55446e-48   2.84743e169   1.13946e-303  -7.4145e-236\n",
       " 6.62083e-303  5.81222e-43   2.9748e-283   1.56092e-19    4.95091e-303\n",
       " 4.28467e-108  1.82964e-110  9.34276e-15   4.11012e-294   5.42073e10\n",
       " 2.36602e-83   2.41989e-110  1.06319e-302  3.56949e-111   1.61635e-302\n",
       "\n",
       "[:, :, 3, 3] =\n",
       " 7.78575e-299  5.59233e68    3.04215e169    4.3506e-87   1.6887e-302\n",
       " 1.15717e-279  1.74126e-157  3.88161e-114  -3.95776e-19  2.44652e-226\n",
       " 7.57041e-53   2.84743e169   2.13583e-168  -1.99687e304  5.04087e-197\n",
       " 5.37919e-168  2.80768e44    1.61573e-302   1.4477e78    2.11798e-86\n",
       "\n",
       "[:, :, 4, 3] =\n",
       " 3.23145e-302  3.669e-302    3.6101e-111   1.91832e-110  1.43436e184\n",
       " 6.43185e140   4.37417e-87   4.54399e-302  9.46769e188   3.61497e-111\n",
       " 9.05917e-227  1.07891e-115  9.22966e-101  3.56949e-111  6.75482e-302\n",
       " 9.14368e-227  9.14367e-227  2.7597e97     5.08978e-294  2.87364e241\n",
       "\n",
       "[:, :, 5, 3] =\n",
       " 6.37372e-241  5.29754e-63   -3.3268e-5     2.35859e256   1.40924e-301\n",
       " 5.13354e-303  3.25588e-264   2.01083e-309  2.6053e-163   2.43536e-88\n",
       " 2.74755e-29   7.71314e-275   1.5582e-101   1.41088e-100  5.9163e-270\n",
       " 7.46776e-299  1.95187e232    1.05945e-301  1.5596e-101   1.34564e-284\n",
       "\n",
       "[:, :, 6, 3] =\n",
       " 3.63528e-111   1.88539e-301  2.11886e-301   1.64629e-83   -1.05615e-259\n",
       " 4.69067e-163  -4.63963e-303  1.75925e-301   8.28117e-109   2.93519e-301\n",
       " 7.99348e294    1.86609e174   2.71616e-265  -3.05015e-173  -6.80788e-255\n",
       " 7.99348e294    4.86502e-163  2.41729e-110   1.29886e-107   4.99112e-110\n",
       "\n",
       "[:, :, 1, 4] =\n",
       "  1.35764e-19   1.19499e-303  4.42817e-87  -1.93974e-187  4.437e-87\n",
       "  1.59605e-83   1.18509e-303  1.59606e-83   1.19482e-303  1.59605e-83\n",
       "  4.70569e-301  1.35773e-100  1.64785e-83   1.18509e-303  3.30187e-289\n",
       " -3.73581e-221  4.70391e-301  6.3369e-301   7.46796e-299  1.27766e-107\n",
       "\n",
       "[:, :, 2, 4] =\n",
       "  2.01981e-221  -3.3417e-5     1.50236e-307  -9.32515e-154   3.2369e-226\n",
       "  1.8293e-130    9.52925e-262  1.74648e-110   1.61082e-101   1.36071e-300\n",
       " -1.72972e-134  -5.13883e-10   9.78559e-15    9.87401e-301  -5.1502e-10\n",
       "  1.36111e-300   5.3792e-168   1.22075e-300   5.3735e-63     1.78831e-300\n",
       "\n",
       "[:, :, 3, 4] =\n",
       "  8.28117e-109  7.68893e-299  4.99112e-110        3.68969e-111  2.67691e-109\n",
       " -1.32017e-52   2.75069e-265  1.35764e-19         1.58541e-101  2.1647e251\n",
       "  2.06822e-300  1.36075e-300  9.84685e-262        7.76683e-299  4.44976e-87\n",
       "  4.47824e-87   1.86609e174   1.36075e-300  -819430.0           3.94961e-300\n",
       "\n",
       "[:, :, 4, 4] =\n",
       " -8.47626e58    -5.84099e10     1.04029e-62    1.58925e-101   1.35781e-100\n",
       " -3.38715e-5     1.86609e174   -3.83624e-91   -3.51939e15     1.35781e-100\n",
       " -3.86914e-91    4.86502e-163   2.07382e-289   7.1558e-300   -0.000103257\n",
       "  5.88607e-109   1.88174e-300  -3.96961e-38    1.21626e-224   1.44788e-292\n",
       "\n",
       "[:, :, 5, 4] =\n",
       " 2.99312e-108  2.19927e-202  3.55975e-111  1.57991e-299  1.72924e-299\n",
       " 1.05131e-299  4.53621e111   8.2877e-91    1.65509e-299  2.67297e-163\n",
       " 1.0886e-299   5.91699e-270  1.1781e49     6.49229e34    2.77794e-265\n",
       " 1.01395e-299  1.34564e-284  1.20539e-109  1.72924e-299  2.25238e-299\n",
       "\n",
       "[:, :, 6, 4] =\n",
       "  1.61089e-101  -2.99738e227   9.66973e-107   5.97771e29     2.51863e-163\n",
       "  5.58989e-309  -1.10909e-134  1.19347e-125   2.16329e-284  -0.00835834\n",
       " -2.98577e227   -8.88765e33    1.92634e-91   -2.94932e280    2.1647e251\n",
       " -2.64207e212    3.73111e-111  2.60545e-163   2.78703e-265   9.52966e-262\n",
       "\n",
       "[:, :, 1, 5] =\n",
       " 4.65334e-299  1.76594e-284  -5.24456e-10   9.53314e-227  -2.64207e212\n",
       " 6.95457e-308  2.67297e-163   1.67519e-264  2.55615e-269   6.74137e-255\n",
       " 2.1912e-284   4.52732e-87    8.45332e-15   3.33223e-111  -1.10909e-134\n",
       " 1.35586e-299  2.13489e-260   2.48529e-265  6.71526e-255  -8.88765e33\n",
       "\n",
       "[:, :, 2, 5] =\n",
       " 3.75385e-111  2.60549e-163  2.80399e-265  3.76359e-111  1.76597e-284\n",
       " 9.66973e-107  5.97771e29    2.51866e-163  7.85166e-178  2.67297e-163\n",
       " 1.19347e-125  2.16329e-284  7.79569e-292  2.1912e-284   2.80944e-265\n",
       " 1.92634e-91   6.63328e-202  4.86502e-163  2.4685e-301   2.17031e-298\n",
       "\n",
       "[:, :, 3, 5] =\n",
       " 1.01431e14    1.04455e-303  2.76666e-298  -2.27429e286   5.64234e-169\n",
       " 1.6189e-101   4.55874e-87   2.88655e-298   6.35333e-299  1.55914e-291\n",
       " 2.16937e-298  1.15598e-129  2.09143e-110   1.225e-225    1.80385e-299\n",
       " 2.81247e-265  2.67228e-163  8.99251e-101   3.77984e-111  7.09583e-72\n",
       "\n",
       "[:, :, 4, 5] =\n",
       "  4.66409e-67   3.18498e-226  2.53801e-125  2.4196e-86    1.62727e-101\n",
       "  4.99112e-110  5.53492e-63   7.46871e-299  0.000190802   5.77224e-298\n",
       " -2.41666e111   7.92827e-111  2.7118e-212   2.72729e222   7.46874e-299\n",
       " -2.41674e111   7.74639e-217  1.42977e-211  1.35791e-100  2.83428e-265\n",
       "\n",
       "[:, :, 5, 5] =\n",
       " 1.62009e-282  1.20228e-297  1.63459e-101  7.76801e-299  1.71536e-291\n",
       " 1.51051e-292  2.77613e-265  2.57512e-83   1.44803e78    3.81151e-111\n",
       " 1.1781e49     9.55034e-154  7.98005e-91   6.3865e29     2.30898e-297\n",
       " 1.20539e-109  5.22336e63    5.24893e-10   6.38651e29    2.8967e-29\n",
       "\n",
       "[:, :, 6, 5] =\n",
       " 2.59634e-297  3.04215e169   2.84743e169   5.29948e-168  2.1912e-284\n",
       " 5.64253e-169  2.6056e-163   5.78195e-154  2.01656e-168  2.94564e-303\n",
       " 9.24744e-57   2.50436e-110  9.08888e135   3.82288e-111  1.76565e-284\n",
       " 1.23289e-54   5.81373e-154  4.04512e-297  6.00461e140   2.67297e-163\n",
       "\n",
       "[:, :, 1, 6] =\n",
       " 2.85608e-265  5.95572e-297  8.54877e241    1.54667e261   1.225e-225\n",
       " 5.95722e-297  2.85911e-265  2.67228e-163   6.65021e270   3.84237e-111\n",
       " 1.01431e14    1.04455e-303  7.70653e-297  -2.27429e286   5.64234e-169\n",
       " 1.64575e-101  4.63434e-87   8.09016e-297   6.35333e-299  6.56359e-130\n",
       "\n",
       "[:, :, 2, 6] =\n",
       " 2.13007e-107  5.24893e-10   1.61776e-296  2.87425e-265  3.85618e-111\n",
       " 1.75501e102   3.22217e-231  7.74638e-217  2.47218e-296  2.60567e-163\n",
       " 7.92827e-111  3.24389e-231  2.44626e-226  1.0792e-115   5.62038e-63\n",
       " 1.83517e-110  2.61737e-163  6.36494e-226  1.07924e-115  1.77126e-296\n",
       "\n",
       "[:, :, 3, 6] =\n",
       " -5.51123e-279   1.77034e102   2.87364e241   -1.63267e25     1.61089e-101\n",
       "  2.87849e-265  -1.60452e-211  6.37372e-241   2.67297e-163   5.5899e-309\n",
       "  3.23671e-296   3.86105e-111  6.11748e-85    2.88637e-265  -4.0374e-144\n",
       "  7.2394e-293    3.54147e-296  4.00005e-296   5.25018e-296  -2.64207e212\n",
       "\n",
       "[:, :, 4, 6] =\n",
       " -4.0531e-144   9.66973e-107   5.97771e29    3.87822e-265  9.02085e-110\n",
       " -1.10909e-134  1.19347e-125   2.16329e-284  6.28678e-299  5.24893e-10\n",
       " -8.88765e33    1.92634e-91   -3.98811e-91   1.4396e-284   1.35805e-100\n",
       "  3.87648e-111  2.60569e-163   2.89545e-265  7.59256e-91   5.62319e-222\n",
       "\n",
       "[:, :, 5, 6] =\n",
       "  3.87448e-109  -2.64207e212   3.89354e-111   2.60572e-163  2.90817e-265\n",
       " -2.15131e-57   -5.67369e-43   9.66973e-107   5.97771e29    2.60572e-163\n",
       "  3.33142e-111  -1.10909e-134  1.19347e-125   2.16329e-284  1.7076e-158\n",
       " -5.65171e-43   -8.88765e33    1.92634e-91   -5.58271e10    2.53764e-163\n",
       "\n",
       "[:, :, 6, 6] =\n",
       " 4.99112e-110  4.72369e-87    1.80455e-130  4.93409e-295   4.19918e-309\n",
       " 2.90486e97    5.14142e-197  -2.35164       2.60575e-163   5.42148e-295\n",
       " 8.45333e-15   1.30255e-264  -5.91812e-260  3.18481e-226   2.28013e-255\n",
       " 4.02842e-87   4.68944e-295   5.17893e-295  4.86774e-163  -3.59428e-5\n",
       "\n",
       "[:, :, 1, 7] =\n",
       " -3.59428e-5     5.35388e-109   7.90748e-295   1.03551e-294   1.23113e-294\n",
       "  9.53074e-262   2.10246e-284   2.8477e169     4.74922e-87   -3.85731e-202\n",
       " -5.48898e-10   -4.92744e116    8.88669e-295  -8.7061e188     9.28139e260\n",
       " -6.04741e140    1.49357e58    -1.71686e155    3.92927e-111   1.35812e-100\n",
       "\n",
       "[:, :, 2, 7] =\n",
       "  1.69005e-101  -2.53486e256   1.35812e-100  4.99112e-110  2.85389e-294\n",
       " -7.44725e217    2.4462e-226   1.69249e-101  1.99921e-168  6.41677e-308\n",
       " -7.44725e217    2.4465e-226  -7.13305e270   1.86627e174   1.22939e-54\n",
       "  1.87585e-294   9.28139e260  -7.13305e270   4.86502e-163  3.94957e-111\n",
       "\n",
       "[:, :, 3, 7] =\n",
       " 2.60582e-163   1.75371e-120  -2.8376e280    7.24588e-255   1.2779e-107\n",
       " 2.66958e-163  -2.44483e-9     5.76756e-63   3.43175e-86    6.09903e-294\n",
       " 1.35783e-19    3.94585e-294   3.36011e-294  1.59635e-83   -5.5481e-10\n",
       " 3.07511e-298   5.67907e-82    5.5116e-279   3.30187e-289   1.60476e-211\n",
       "\n",
       "[:, :, 4, 7] =\n",
       " 1.10269e49     8.17739e-231  1.64844e-83   3.97313e-111  7.46976e-299\n",
       " 4.99112e-110   9.4576e-294   1.06316e-293  6.09895e-294  4.81402e-87\n",
       " 1.35764e-19   -3.85731e-202  1.73549e-293  1.44838e-158  3.30237e-289\n",
       " 1.92987e-59    1.35783e-19   5.4599e-173   1.86609e174   3.95688e-111\n",
       "\n",
       "[:, :, 5, 7] =\n",
       " 1.18066e-293   5.91809e-270  1.70331e-101  -6.76704       1.74751e-110\n",
       " 5.80793e-63    6.71313e-255  2.12692e-293   2.84478e-293  7.90831e-295\n",
       " 1.24777e-235  -3.63004e-5    3.97475e-111   3.31451e-293  1.59639e-83\n",
       " 5.35388e-109   1.35841e-100  1.35819e-100   1.41063e-100  1.96585e-24\n",
       "\n",
       "[:, :, 6, 7] =\n",
       " 2.40862e-33    4.19918e-309       0.000194255    1.61823e-284  1.10269e49\n",
       " 3.58282e140    4.4092e-293        1.53261e-308  12.6056        2.51907e-163\n",
       " 1.5992e-28    -3.05024e-173  827137.0            2.67691e-109  1.60301e-108\n",
       " 4.86774e-163   2.96819e-9         1.07528e-292   4.17708e-110  5.81373e-154"
      ]
     },
     "execution_count": 47,
     "metadata": {},
     "output_type": "execute_result"
    }
   ],
   "source": [
    "c = Array{Float64}(undef, 4, 5, 6, 7) # -> 7 sets of 6 matrices, with 5 columns and 4 rows ?! what's the use case of this?"
   ]
  },
  {
   "cell_type": "code",
   "execution_count": 50,
   "metadata": {
    "ExecuteTime": {
     "end_time": "2020-05-12T18:18:02.530000+02:00",
     "start_time": "2020-05-12T16:18:02.527Z"
    },
    "hidden": true
   },
   "outputs": [],
   "source": [
    "mat = [1 2 3 4\n",
    "        3 4 5 6\n",
    "        4 4 4 6\n",
    "        3 3 3 3]\n",
    "# same as writing -> mat = [1 2 3 4;3 4 5 6; 4 4 4 6; 3 3 3 3] - separating the row entries with space and columns with ;"
   ]
  },
  {
   "cell_type": "code",
   "execution_count": 52,
   "metadata": {
    "ExecuteTime": {
     "end_time": "2020-05-12T18:18:19.099000+02:00",
     "start_time": "2020-05-12T16:18:19.096Z"
    },
    "hidden": true
   },
   "outputs": [
    {
     "data": {
      "text/plain": [
       "4×4 Array{Int64,2}:\n",
       " 1  2       3  4\n",
       " 3  4  101001  6\n",
       " 4  4       4  6\n",
       " 3  3       3  3"
      ]
     },
     "execution_count": 52,
     "metadata": {},
     "output_type": "execute_result"
    }
   ],
   "source": [
    "# changing a matrix element\n",
    "mat[2,3] = 101001\n",
    "mat"
   ]
  },
  {
   "cell_type": "code",
   "execution_count": 55,
   "metadata": {
    "ExecuteTime": {
     "end_time": "2020-05-12T18:20:50.310000+02:00",
     "start_time": "2020-05-12T16:20:50.306Z"
    },
    "hidden": true
   },
   "outputs": [
    {
     "data": {
      "text/plain": [
       "3-element Array{Int64,1}:\n",
       " 9\n",
       " 2\n",
       " 3"
      ]
     },
     "execution_count": 55,
     "metadata": {},
     "output_type": "execute_result"
    }
   ],
   "source": [
    "a = [1;2;3]\n",
    "b = a\n",
    "b[1] = 9\n",
    "a"
   ]
  },
  {
   "cell_type": "code",
   "execution_count": 57,
   "metadata": {
    "ExecuteTime": {
     "end_time": "2020-05-12T18:23:09.732000+02:00",
     "start_time": "2020-05-12T16:23:09.728Z"
    },
    "hidden": true
   },
   "outputs": [
    {
     "data": {
      "text/plain": [
       "3-element Array{Int64,1}:\n",
       " 9\n",
       " 2\n",
       " 3"
      ]
     },
     "execution_count": 57,
     "metadata": {},
     "output_type": "execute_result"
    }
   ],
   "source": [
    "# to set one array = to another, use copy, now the first remains the same\n",
    "b = copy(a)\n",
    "b[1] = 100\n",
    "a"
   ]
  },
  {
   "cell_type": "code",
   "execution_count": 60,
   "metadata": {
    "ExecuteTime": {
     "end_time": "2020-05-12T18:24:50.749000+02:00",
     "start_time": "2020-05-12T16:24:50.743Z"
    },
    "hidden": true
   },
   "outputs": [
    {
     "data": {
      "text/plain": [
       "3-element Array{Int64,1}:\n",
       " 0\n",
       " 0\n",
       " 0"
      ]
     },
     "execution_count": 60,
     "metadata": {},
     "output_type": "execute_result"
    }
   ],
   "source": [
    "# one = ones(a) - ones() doesn't seem to work\n",
    "c = similar(a) # an empty array of same shape, but elements seem to be random? how are they defined?\n",
    "d = zero(a) # same shape with 0's"
   ]
  },
  {
   "cell_type": "code",
   "execution_count": 62,
   "metadata": {
    "ExecuteTime": {
     "end_time": "2020-05-12T18:26:24.573000+02:00",
     "start_time": "2020-05-12T16:26:24.566Z"
    },
    "hidden": true
   },
   "outputs": [
    {
     "data": {
      "text/plain": [
       "2-element Array{Int64,1}:\n",
       " 2\n",
       " 3"
      ]
     },
     "execution_count": 62,
     "metadata": {},
     "output_type": "execute_result"
    }
   ],
   "source": [
    "# indexing made easy, f**k python haha\n",
    "a[1:3] \n",
    "a[2:end]# Julia uses end instead of -1"
   ]
  },
  {
   "cell_type": "code",
   "execution_count": 65,
   "metadata": {
    "ExecuteTime": {
     "end_time": "2020-05-12T18:28:04.766000+02:00",
     "start_time": "2020-05-12T16:28:04.704Z"
    },
    "hidden": true
   },
   "outputs": [
    {
     "data": {
      "text/plain": [
       "3-element Array{Array{Float64,1},1}:\n",
       " [1.0, 2.0, 3.0]\n",
       " [9.0, 8.0, 7.0]\n",
       " [6.0, 4.0, 5.0]"
      ]
     },
     "execution_count": 65,
     "metadata": {},
     "output_type": "execute_result"
    }
   ],
   "source": [
    "# Arrays can be of any type! array inception :3\n",
    "a = Vector{Vector{Float64}}(undef, 3)\n",
    "a[1] = [1;2;3]\n",
    "a[2] = [9;8;7]\n",
    "a[3] = [6;4;5]\n",
    "a"
   ]
  },
  {
   "cell_type": "code",
   "execution_count": 66,
   "metadata": {
    "ExecuteTime": {
     "end_time": "2020-05-12T18:30:48.594000+02:00",
     "start_time": "2020-05-12T16:30:48.591Z"
    },
    "hidden": true
   },
   "outputs": [
    {
     "data": {
      "text/plain": [
       "3-element Array{Array{Float64,1},1}:\n",
       " [0.0, 0.0, 0.0]\n",
       " [9.0, 8.0, 7.0]\n",
       " [6.0, 4.0, 5.0]"
      ]
     },
     "execution_count": 66,
     "metadata": {},
     "output_type": "execute_result"
    }
   ],
   "source": [
    "# Question 1\n",
    "b = a\n",
    "b[1] = [0;0;0]\n",
    "a # we just pointed to the memory location, we didn't make a copy, causing a to change as we change b"
   ]
  },
  {
   "cell_type": "code",
   "execution_count": 69,
   "metadata": {
    "ExecuteTime": {
     "end_time": "2020-05-12T18:32:11.230000+02:00",
     "start_time": "2020-05-12T16:32:11.191Z"
    },
    "hidden": true
   },
   "outputs": [
    {
     "data": {
      "text/plain": [
       "3-element Array{Array{Float64,1},1}:\n",
       " [0.0, 0.0, 0.0]\n",
       " [9.0, 8.0, 7.0]\n",
       " [6.0, 4.0, 5.0]"
      ]
     },
     "execution_count": 69,
     "metadata": {},
     "output_type": "execute_result"
    }
   ],
   "source": [
    "# deepcopy - recursive copy function\n",
    "b = deepcopy(a) # what's the difference between deep and normal copy? tried copy, nothing different...\n",
    "b[1] = [1;2;3]\n",
    "a"
   ]
  },
  {
   "cell_type": "markdown",
   "metadata": {
    "ExecuteTime": {
     "end_time": "2020-05-12T18:42:15.937000+02:00",
     "start_time": "2020-05-12T16:42:15.782Z"
    },
    "heading_collapsed": true,
    "hidden": true
   },
   "source": [
    "### Mutating functions\n",
    "\n",
    "adding a ! after a function changes the first argument given after the exclamation mark\n",
    "- crucial for Julia's performance"
   ]
  },
  {
   "cell_type": "code",
   "execution_count": 72,
   "metadata": {
    "ExecuteTime": {
     "end_time": "2020-05-12T18:45:53.972000+02:00",
     "start_time": "2020-05-12T16:45:53.968Z"
    },
    "hidden": true
   },
   "outputs": [
    {
     "data": {
      "text/plain": [
       "3-element Array{Int64,1}:\n",
       " 1\n",
       " 6\n",
       " 8"
      ]
     },
     "execution_count": 72,
     "metadata": {},
     "output_type": "execute_result"
    }
   ],
   "source": [
    "a = [1;6;8]\n",
    "b = similar(a)\n",
    "copyto!(b,a)"
   ]
  },
  {
   "cell_type": "markdown",
   "metadata": {
    "heading_collapsed": true,
    "hidden": true
   },
   "source": [
    "### Control Flow\n",
    "- for, while loops and if statements\n",
    "\n",
    "seems much, much more intuitive and natural than Python"
   ]
  },
  {
   "cell_type": "code",
   "execution_count": 78,
   "metadata": {
    "ExecuteTime": {
     "end_time": "2020-05-12T18:49:37.612000+02:00",
     "start_time": "2020-05-12T16:49:37.589Z"
    },
    "hidden": true
   },
   "outputs": [
    {
     "name": "stdout",
     "output_type": "stream",
     "text": [
      "UCI\n"
     ]
    }
   ],
   "source": [
    "# for i = 1:5\n",
    "#     println(i)\n",
    "# end\n",
    "\n",
    "t = 0\n",
    "while t < 5\n",
    "    println(t)\n",
    "    t += 1\n",
    "end\n",
    "\n",
    "# :UCI - is a symbol?! what is a symbol? a string?"
   ]
  },
  {
   "cell_type": "code",
   "execution_count": 92,
   "metadata": {
    "ExecuteTime": {
     "end_time": "2020-05-12T18:55:41.772000+02:00",
     "start_time": "2020-05-12T16:55:41.748Z"
    },
    "hidden": true
   },
   "outputs": [
    {
     "name": "stdout",
     "output_type": "stream",
     "text": [
      "1 2\n",
      "1 3\n",
      "1 4\n",
      "2 2\n",
      "2 3\n",
      "2 4\n"
     ]
    }
   ],
   "source": [
    "# SUPER COOL FEATURE, love this\n",
    "# two loops defined in one place - a nested loop \n",
    "\n",
    "for i=1:2,j=2:4;\n",
    "    println(\"$i $j\")\n",
    "end\n",
    "\n",
    "# SAME AS\n",
    "# for i in 1:2\n",
    "#     for j in 2:4\n",
    "#         println(\"$i $j\")\n",
    "#     end\n",
    "# end"
   ]
  },
  {
   "cell_type": "markdown",
   "metadata": {
    "ExecuteTime": {
     "end_time": "2020-05-12T20:38:58.715000+02:00",
     "start_time": "2020-05-12T18:38:49.279Z"
    },
    "heading_collapsed": true
   },
   "source": [
    "## Arrays"
   ]
  },
  {
   "cell_type": "markdown",
   "metadata": {
    "heading_collapsed": true,
    "hidden": true
   },
   "source": [
    "### Operations, Broadcast,  Memory"
   ]
  },
  {
   "cell_type": "code",
   "execution_count": 4,
   "metadata": {
    "ExecuteTime": {
     "end_time": "2020-05-12T17:52:46.695000+02:00",
     "start_time": "2020-05-12T15:52:46.633Z"
    },
    "hidden": true
   },
   "outputs": [],
   "source": [
    "A = map((x)-> x^2, 1:10) # unusual syntax? looks simple though"
   ]
  },
  {
   "cell_type": "code",
   "execution_count": 9,
   "metadata": {
    "ExecuteTime": {
     "end_time": "2020-05-12T17:54:50.866000+02:00",
     "start_time": "2020-05-12T15:54:50.729Z"
    },
    "hidden": true
   },
   "outputs": [
    {
     "data": {
      "text/plain": [
       "5×2 Array{Int64,2}:\n",
       "  2   3\n",
       "  5   6\n",
       "  8   9\n",
       " 11  12\n",
       " 14  15"
      ]
     },
     "execution_count": 9,
     "metadata": {},
     "output_type": "execute_result"
    }
   ],
   "source": [
    "A = 1:5 # acts as a column vector! it is not a column vector until we do sth with it?! \n",
    "B = [1 2\n",
    "     3 4\n",
    "     5 6\n",
    "     7 8\n",
    "     9 10]\n",
    "broadcast(+, A, B) # casts the first param operator to the other arguments"
   ]
  },
  {
   "cell_type": "markdown",
   "metadata": {
    "hidden": true
   },
   "source": [
    "adding a . in front of an opreation is the same as broadcasting it"
   ]
  },
  {
   "cell_type": "code",
   "execution_count": 1,
   "metadata": {
    "ExecuteTime": {
     "end_time": "2020-05-14T11:52:32.350000+02:00",
     "start_time": "2020-05-14T09:52:28.802Z"
    },
    "hidden": true
   },
   "outputs": [
    {
     "data": {
      "text/plain": [
       "5-element Array{Int64,1}:\n",
       "  2\n",
       "  6\n",
       " 12\n",
       " 20\n",
       " 30"
      ]
     },
     "execution_count": 1,
     "metadata": {},
     "output_type": "execute_result"
    }
   ],
   "source": [
    "A = 1:5\n",
    "B = [2;3;4;5;6] # same as 2:6\n",
    "A.*B # same as broadcast(*, A, B)"
   ]
  },
  {
   "cell_type": "code",
   "execution_count": 2,
   "metadata": {
    "ExecuteTime": {
     "end_time": "2020-05-14T11:53:32.642000+02:00",
     "start_time": "2020-05-14T09:53:32.510Z"
    },
    "hidden": true
   },
   "outputs": [
    {
     "data": {
      "text/plain": [
       "5-element Array{Int64,1}:\n",
       "  6\n",
       " 24\n",
       " 60\n",
       " 40\n",
       " 30"
      ]
     },
     "execution_count": 2,
     "metadata": {},
     "output_type": "execute_result"
    }
   ],
   "source": [
    "C = [3;4;5;2;1]\n",
    "A.*B.*C # == .*(A, .*(B, C))"
   ]
  },
  {
   "cell_type": "code",
   "execution_count": 9,
   "metadata": {
    "ExecuteTime": {
     "end_time": "2020-05-14T13:25:52.194000+02:00",
     "start_time": "2020-05-14T11:25:52.055Z"
    },
    "hidden": true
   },
   "outputs": [
    {
     "data": {
      "text/plain": [
       "5-element Array{Int64,1}:\n",
       "  6\n",
       " 24\n",
       " 60\n",
       " 40\n",
       " 30"
      ]
     },
     "execution_count": 9,
     "metadata": {},
     "output_type": "execute_result"
    }
   ],
   "source": [
    "# implementation of broadcasting\n",
    "\n",
    "function broadcast_mult(x, y)\n",
    "    out = similar(x)\n",
    "    for i in eachindex(x)\n",
    "        out[i] = x[i] * y[i]\n",
    "    end\n",
    "    out\n",
    "end\n",
    "\n",
    "broadcast_mult(A, B);\n",
    "# instead of A.*B.*C -> broadcast can take an anonymous function and do broadcasts on it\n",
    "broadcast((x,y,z)->x*y*z, A, B, C)"
   ]
  },
  {
   "cell_type": "code",
   "execution_count": 15,
   "metadata": {
    "ExecuteTime": {
     "end_time": "2020-05-14T13:29:30.411000+02:00",
     "start_time": "2020-05-14T11:29:28.175Z"
    },
    "hidden": true
   },
   "outputs": [
    {
     "name": "stdout",
     "output_type": "stream",
     "text": [
      "  594.286 ns (4 allocations: 96 bytes)\n"
     ]
    },
    {
     "data": {
      "text/plain": [
       "5-element Array{Int64,1}:\n",
       "  6\n",
       " 24\n",
       " 60\n",
       " 40\n",
       " 30"
      ]
     },
     "execution_count": 15,
     "metadata": {},
     "output_type": "execute_result"
    }
   ],
   "source": [
    "# also possible to broadcast = (.=)\n",
    "# D = similar(C)\n",
    "\n",
    "# using BenchmarkTools\n",
    "@btime D.=A.*B.*C # slightly faster then doing D = A.*B.*C\n",
    "\n",
    "# broadcasting makes operations element-wise, not allocating and arrays -> making it faster"
   ]
  },
  {
   "cell_type": "code",
   "execution_count": 75,
   "metadata": {
    "ExecuteTime": {
     "end_time": "2020-05-15T11:58:35.206000+02:00",
     "start_time": "2020-05-15T09:58:35.203Z"
    },
    "hidden": true
   },
   "outputs": [
    {
     "data": {
      "text/plain": [
       "3×3 Array{Float64,2}:\n",
       " 0.449931   0.00856122  0.891517\n",
       " 0.0432072  0.986272    0.366697\n",
       " 0.284018   0.00954201  0.997359"
      ]
     },
     "execution_count": 75,
     "metadata": {},
     "output_type": "execute_result"
    }
   ],
   "source": [
    "A = rand(4,4)\n",
    "\n",
    "A[1:3, 1:3] # allocates memory for the newly created array"
   ]
  },
  {
   "cell_type": "code",
   "execution_count": 7,
   "metadata": {
    "ExecuteTime": {
     "end_time": "2020-05-15T11:41:25.039000+02:00",
     "start_time": "2020-05-15T09:41:24.992Z"
    },
    "hidden": true
   },
   "outputs": [
    {
     "name": "stdout",
     "output_type": "stream",
     "text": [
      "  0.000000 seconds\n",
      "  0.001595 seconds (28 allocations: 2.031 KiB)\n"
     ]
    },
    {
     "data": {
      "text/plain": [
       "3-element Array{Int64,1}:\n",
       "  1\n",
       " 10\n",
       "  5"
      ]
     },
     "execution_count": 7,
     "metadata": {},
     "output_type": "execute_result"
    }
   ],
   "source": [
    "a = [1;3;5]\n",
    "\n",
    "@time b = a # does not allocate memory, just points to it\n",
    "a[2] = 10 # now changes both a and b\n",
    "a, b\n",
    "\n",
    "@time c = copy(a) # needs to allocate memoery for a new array, takes significantly more time"
   ]
  },
  {
   "cell_type": "markdown",
   "metadata": {
    "hidden": true
   },
   "source": [
    "Arrays as we see it are just a 'view' to the one dimensional number sequence in memory. \n",
    "-> Indexes the sequence in a way that we see 2 dimensions, which is why looping through columns is faster than through rows. "
   ]
  },
  {
   "cell_type": "code",
   "execution_count": 52,
   "metadata": {
    "ExecuteTime": {
     "end_time": "2020-05-15T11:50:23.659000+02:00",
     "start_time": "2020-05-15T09:50:23.361Z"
    },
    "hidden": true
   },
   "outputs": [
    {
     "name": "stdout",
     "output_type": "stream",
     "text": [
      "  0.000599 seconds\n",
      "  0.000310 seconds\n",
      "  0.000523 seconds\n"
     ]
    }
   ],
   "source": [
    "function testloops()\n",
    "    b = rand(1000, 1000)\n",
    "    c = 0\n",
    "    @time for i in 1:1000, j in 1:1000\n",
    "        c += b[i,j] \n",
    "    end\n",
    "    @time for j in 1:1000, i in 1:1000\n",
    "        c += b[i,j]\n",
    "    end\n",
    "    bidx = eachindex(b)\n",
    "    @time for i in bidx\n",
    "        c += b[i]\n",
    "    end\n",
    "end\n",
    "testloops()"
   ]
  },
  {
   "cell_type": "markdown",
   "metadata": {
    "hidden": true
   },
   "source": [
    "The fast iteration is with eachindex()!!!"
   ]
  },
  {
   "cell_type": "code",
   "execution_count": 59,
   "metadata": {
    "ExecuteTime": {
     "end_time": "2020-05-15T11:53:13.132000+02:00",
     "start_time": "2020-05-15T09:53:13.098Z"
    },
    "hidden": true
   },
   "outputs": [
    {
     "name": "stdout",
     "output_type": "stream",
     "text": [
      "[0.2934400518796758 0.6309219678654696 0.32481215128341856 0.6096984317669494; 0.4971621542192126 0.709649306786291 0.6367784950150404 0.8105486628195255; 0.4772302552861003 0.229867299404924 0.11865800344296407 0.3404485893124416; 0.8776805264724348 0.6838057179970138 0.3793194158509088 0.8737267618497815]\n",
      "[0.2934400518796758 0.6309219678654696 0.32481215128341856 0.6096984317669494; 0.4971621542192126 0.709649306786291 0.6367784950150404 0.8105486628195255; 0.4772302552861003 0.229867299404924 0.11865800344296407 0.3404485893124416; 0.8776805264724348 0.6838057179970138 0.3793194158509088 0.8737267618497815]\n",
      "[1000.0 0.6309219678654696 0.32481215128341856; 0.4971621542192126 0.709649306786291 0.6367784950150404; 0.4772302552861003 0.229867299404924 0.11865800344296407]\n"
     ]
    }
   ],
   "source": [
    "# BUT, when we slice the array, it is no longer pointing to the same memory\n",
    "println(A)\n",
    "B = A[1:3, 1:3]\n",
    "B[1,1] = 1000\n",
    "println(A)\n",
    "println(B) # only changed @ B"
   ]
  },
  {
   "cell_type": "code",
   "execution_count": 84,
   "metadata": {
    "ExecuteTime": {
     "end_time": "2020-05-15T12:03:12.595000+02:00",
     "start_time": "2020-05-15T10:03:12.592Z"
    },
    "hidden": true
   },
   "outputs": [
    {
     "data": {
      "text/plain": [
       "4×4 Array{Float64,2}:\n",
       " 999.0       0.787645  0.439098  0.940952\n",
       "   0.366572  0.189643  0.471893  0.288471\n",
       "   0.813142  0.313396  0.849975  0.264878\n",
       "   0.784032  0.700011  0.571713  0.182147"
      ]
     },
     "execution_count": 84,
     "metadata": {},
     "output_type": "execute_result"
    }
   ],
   "source": [
    "# id we want the same memoery location, use view()\n",
    "B = view(A, 1:3, 1:3)\n",
    "B[1,1] = 999 # then when we change B, we also change A\n",
    "A"
   ]
  },
  {
   "cell_type": "markdown",
   "metadata": {
    "hidden": true
   },
   "source": [
    "We might want to use view() when passing a slice to a function, and we do want to change the original array"
   ]
  },
  {
   "cell_type": "code",
   "execution_count": 76,
   "metadata": {
    "ExecuteTime": {
     "end_time": "2020-05-15T11:58:38.915000+02:00",
     "start_time": "2020-05-15T09:58:38.912Z"
    },
    "hidden": true
   },
   "outputs": [
    {
     "data": {
      "text/plain": [
       "8×2 Array{Float64,2}:\n",
       " 0.449931    0.891517\n",
       " 0.0432072   0.366697\n",
       " 0.284018    0.997359\n",
       " 0.543507    0.390266\n",
       " 0.00856122  0.00831681\n",
       " 0.986272    0.521532\n",
       " 0.00954201  0.412563\n",
       " 0.25692     0.184783"
      ]
     },
     "execution_count": 76,
     "metadata": {},
     "output_type": "execute_result"
    }
   ],
   "source": [
    "c = vec(A) #\n",
    "C = reshape(A, 8, 2) # as usual Row, Column\n",
    "C"
   ]
  },
  {
   "cell_type": "markdown",
   "metadata": {
    "ExecuteTime": {
     "end_time": "2020-05-15T11:58:17.502000+02:00",
     "start_time": "2020-05-15T09:58:17.499Z"
    },
    "heading_collapsed": true,
    "hidden": true
   },
   "source": [
    "### Linear Algebra"
   ]
  },
  {
   "cell_type": "markdown",
   "metadata": {
    "hidden": true
   },
   "source": [
    "Multithreaded operation * on matrices."
   ]
  },
  {
   "cell_type": "code",
   "execution_count": 79,
   "metadata": {
    "ExecuteTime": {
     "end_time": "2020-05-15T12:00:31.993000+02:00",
     "start_time": "2020-05-15T10:00:31.889Z"
    },
    "hidden": true
   },
   "outputs": [
    {
     "data": {
      "text/plain": [
       "4×4 Array{Float64,2}:\n",
       " 0.0851134  0.666479  0.096151  0.816758\n",
       " 0.162674   0.152241  0.388435  0.108922\n",
       " 0.393204   0.136352  0.256049  0.0950968\n",
       " 0.335479   0.538701  0.446513  0.0604"
      ]
     },
     "execution_count": 79,
     "metadata": {},
     "output_type": "execute_result"
    }
   ],
   "source": [
    "A = rand(4, 4); B = rand(4, 4)\n",
    "C = A*B # matrix multiplication\n",
    "D = A.*B # element-wise multiplication!"
   ]
  },
  {
   "cell_type": "code",
   "execution_count": 82,
   "metadata": {
    "ExecuteTime": {
     "end_time": "2020-05-15T12:01:30.686000+02:00",
     "start_time": "2020-05-15T10:01:30.683Z"
    },
    "hidden": true
   },
   "outputs": [
    {
     "data": {
      "text/plain": [
       "4-element Array{Float64,1}:\n",
       " -15.400073004251766\n",
       "  11.581644729530648\n",
       "  16.534629980981624\n",
       "  -8.159283482877514"
      ]
     },
     "execution_count": 82,
     "metadata": {},
     "output_type": "execute_result"
    }
   ],
   "source": [
    "b = 1:4\n",
    "A\\b # solving for Ax = b"
   ]
  },
  {
   "cell_type": "code",
   "execution_count": 85,
   "metadata": {
    "ExecuteTime": {
     "end_time": "2020-05-15T12:05:54.010000+02:00",
     "start_time": "2020-05-15T10:05:53.164Z"
    },
    "hidden": true
   },
   "outputs": [
    {
     "data": {
      "text/plain": [
       "3×2 SparseMatrixCSC{Int64,Int64} with 3 stored entries:\n",
       "  [3, 1]  =  5\n",
       "  [1, 2]  =  3\n",
       "  [2, 2]  =  4"
      ]
     },
     "execution_count": 85,
     "metadata": {},
     "output_type": "execute_result"
    }
   ],
   "source": [
    "# Spares matrices\n",
    "# -> table format, triplets (i, j, value)\n",
    "using SparseArrays\n",
    "A = sparse([1;2;3], [2;2;1], [3;4;5])"
   ]
  },
  {
   "cell_type": "code",
   "execution_count": 86,
   "metadata": {
    "ExecuteTime": {
     "end_time": "2020-05-15T12:06:30.752000+02:00",
     "start_time": "2020-05-15T10:06:30.001Z"
    },
    "hidden": true
   },
   "outputs": [
    {
     "data": {
      "text/plain": [
       "3×2 Array{Int64,2}:\n",
       " 0  3\n",
       " 0  4\n",
       " 5  0"
      ]
     },
     "execution_count": 86,
     "metadata": {},
     "output_type": "execute_result"
    }
   ],
   "source": [
    "Array(A)"
   ]
  },
  {
   "cell_type": "code",
   "execution_count": 87,
   "metadata": {
    "ExecuteTime": {
     "end_time": "2020-05-15T12:08:18.817000+02:00",
     "start_time": "2020-05-15T10:08:18.043Z"
    },
    "hidden": true
   },
   "outputs": [
    {
     "data": {
      "text/plain": [
       "5×5 Tridiagonal{Int64,UnitRange{Int64}}:\n",
       " 1  1  ⋅  ⋅  ⋅\n",
       " 2  2  2  ⋅  ⋅\n",
       " ⋅  3  3  3  ⋅\n",
       " ⋅  ⋅  4  4  4\n",
       " ⋅  ⋅  ⋅  5  5"
      ]
     },
     "execution_count": 87,
     "metadata": {},
     "output_type": "execute_result"
    }
   ],
   "source": [
    "# Diagonal, tridiagonal...\n",
    "# always better to use than sparse or dense matrices, since these special matrices\n",
    "# use less memory, for example this tridiagonal - only has 3 vectors stored(perhaps four including du2?)\n",
    "using LinearAlgebra\n",
    "A = Tridiagonal(2:5, 1:5, 1:4)"
   ]
  },
  {
   "cell_type": "code",
   "execution_count": 88,
   "metadata": {
    "ExecuteTime": {
     "end_time": "2020-05-15T12:08:45.066000+02:00",
     "start_time": "2020-05-15T10:08:44.763Z"
    },
    "hidden": true
   },
   "outputs": [
    {
     "data": {
      "text/plain": [
       "(:dl, :d, :du, :du2)"
      ]
     },
     "execution_count": 88,
     "metadata": {},
     "output_type": "execute_result"
    }
   ],
   "source": [
    "fieldnames(typeof(A)) # dl - diagonal lower, d - main diagonal, du - diagonal upper, du2 - no idea? "
   ]
  },
  {
   "cell_type": "code",
   "execution_count": 97,
   "metadata": {
    "ExecuteTime": {
     "end_time": "2020-05-15T12:11:01.206000+02:00",
     "start_time": "2020-05-15T10:11:01.041Z"
    },
    "hidden": true
   },
   "outputs": [
    {
     "data": {
      "text/plain": [
       "5×5 Array{Float64,2}:\n",
       " 0.117234  0.638521   0.0      0.0      0.0\n",
       " 1.41415   0.0786699  1.04882  0.0      0.0\n",
       " 0.0       1.74673    2.10954  2.58151  0.0\n",
       " 0.0       0.0        3.10263  1.43459  0.640136\n",
       " 0.0       0.0        0.0      2.51949  1.3456"
      ]
     },
     "execution_count": 97,
     "metadata": {},
     "output_type": "execute_result"
    }
   ],
   "source": [
    "A.*rand(5,5) # operations work regularly"
   ]
  },
  {
   "cell_type": "code",
   "execution_count": 98,
   "metadata": {
    "ExecuteTime": {
     "end_time": "2020-05-15T12:13:45.143000+02:00",
     "start_time": "2020-05-15T10:13:45.114Z"
    },
    "hidden": true
   },
   "outputs": [
    {
     "data": {
      "text/plain": [
       "5×5 Array{Float64,2}:\n",
       " -1.96004     0.785822   0.693955   0.127172    0.0123761\n",
       "  0.0192172  -1.81184    0.993417   0.655862    0.753028\n",
       "  0.142131    0.163492  -1.69051    0.515506    0.00162102\n",
       "  0.114023    0.343724   0.91573   -1.76859     0.0368716\n",
       "  0.542405    0.900229   0.879457   0.0878307  -1.50012"
      ]
     },
     "execution_count": 98,
     "metadata": {},
     "output_type": "execute_result"
    }
   ],
   "source": [
    "# Smart identity matrix - never forms a matrix, but acts as one whenever we need it\n",
    "# to subtract a scalar from a matrix\n",
    "A = rand(5,5)\n",
    "λ = 2\n",
    "A - λ*I"
   ]
  },
  {
   "cell_type": "code",
   "execution_count": 99,
   "metadata": {
    "ExecuteTime": {
     "end_time": "2020-05-15T12:16:46.306000+02:00",
     "start_time": "2020-05-15T10:16:44.829Z"
    },
    "hidden": true
   },
   "outputs": [
    {
     "data": {
      "text/plain": [
       "LinearAlgebra.QRCompactWY{Float64,Array{Float64,2}}\n",
       "Q factor:\n",
       "5×5 LinearAlgebra.QRCompactWYQ{Float64,Array{Float64,2}}:\n",
       " -0.559036    0.341236    0.0631995   0.485864   0.575307\n",
       " -0.451624    0.0724077   0.744991   -0.106413  -0.47377\n",
       " -0.412696   -0.483519   -0.426191    0.45692   -0.453296\n",
       " -0.557487    0.0276817  -0.381115   -0.730151   0.100363\n",
       " -0.0490444  -0.802345    0.337798   -0.103512   0.478555\n",
       "R factor:\n",
       "5×5 Array{Float64,2}:\n",
       " -1.57045  -1.25394   -1.02109   -0.622988  -0.800371\n",
       "  0.0      -0.751758  -0.746701  -0.480568  -0.393409\n",
       "  0.0       0.0        0.623631  -0.319121  -0.327597\n",
       "  0.0       0.0        0.0       -0.154988   0.0813965\n",
       "  0.0       0.0        0.0        0.0       -0.37399"
      ]
     },
     "execution_count": 99,
     "metadata": {},
     "output_type": "execute_result"
    }
   ],
   "source": [
    "# Factorizations made easy and with better performance\n",
    "b = 1:5\n",
    "A = rand(5,5)\n",
    "q = qr(A)"
   ]
  },
  {
   "cell_type": "code",
   "execution_count": 105,
   "metadata": {
    "ExecuteTime": {
     "end_time": "2020-05-15T12:18:13.850000+02:00",
     "start_time": "2020-05-15T10:18:13.836Z"
    },
    "hidden": true
   },
   "outputs": [
    {
     "name": "stdout",
     "output_type": "stream",
     "text": [
      "  0.000019 seconds (5 allocations: 624 bytes)\n"
     ]
    },
    {
     "data": {
      "text/plain": [
       "5-element Array{Float64,1}:\n",
       "  0.16054228372519214\n",
       " -2.833236101737603\n",
       "  4.373471739354354\n",
       " 10.085966307275111\n",
       " -2.8399299458382012"
      ]
     },
     "execution_count": 105,
     "metadata": {},
     "output_type": "execute_result"
    }
   ],
   "source": [
    "# then we can just\n",
    "@time q\\b"
   ]
  },
  {
   "cell_type": "code",
   "execution_count": 107,
   "metadata": {
    "ExecuteTime": {
     "end_time": "2020-05-15T12:18:34.537000+02:00",
     "start_time": "2020-05-15T10:18:34.173Z"
    },
    "hidden": true
   },
   "outputs": [
    {
     "data": {
      "text/plain": [
       "LU{Float64,Array{Float64,2}}\n",
       "L factor:\n",
       "5×5 Array{Float64,2}:\n",
       " 1.0        0.0        0.0       0.0       0.0\n",
       " 0.0877302  1.0        0.0       0.0       0.0\n",
       " 0.738227   0.883629   1.0       0.0       0.0\n",
       " 0.997228   0.375604   0.742313  1.0       0.0\n",
       " 0.807861   0.244224  -0.799534  0.211839  1.0\n",
       "U factor:\n",
       "5×5 Array{Float64,2}:\n",
       " 0.877937  0.444474   0.355437  0.0888144   0.116876\n",
       " 0.0       0.625674   0.828669  0.316588    0.0465883\n",
       " 0.0       0.0       -0.477972  0.209346    0.739421\n",
       " 0.0       0.0        0.0       0.205911   -0.219741\n",
       " 0.0       0.0        0.0       0.0         0.789391"
      ]
     },
     "execution_count": 107,
     "metadata": {},
     "output_type": "execute_result"
    }
   ],
   "source": [
    "l = lu(A)"
   ]
  },
  {
   "cell_type": "markdown",
   "metadata": {
    "heading_collapsed": true,
    "hidden": true
   },
   "source": [
    "### Random number"
   ]
  },
  {
   "cell_type": "code",
   "execution_count": 109,
   "metadata": {
    "ExecuteTime": {
     "end_time": "2020-05-15T12:22:02.089000+02:00",
     "start_time": "2020-05-15T10:22:02.076Z"
    },
    "hidden": true
   },
   "outputs": [
    {
     "data": {
      "text/plain": [
       "5×5 Array{Float64,2}:\n",
       " -0.892673  -0.974521   -1.28372   -0.0480631  -0.556884\n",
       " -0.122791  -1.63404     0.781767   0.600983    0.302176\n",
       " -0.375285  -1.08624     0.302118  -1.42489     1.07378\n",
       " -1.35009    0.0592513  -0.565259   0.464772   -2.47376\n",
       "  2.28626   -1.21881    -0.649583   0.750118   -0.531164"
      ]
     },
     "execution_count": 109,
     "metadata": {},
     "output_type": "execute_result"
    }
   ],
   "source": [
    "rand(5) # uniform\n",
    "randn(5, 5) # normal random"
   ]
  },
  {
   "cell_type": "code",
   "execution_count": 111,
   "metadata": {
    "ExecuteTime": {
     "end_time": "2020-05-15T12:22:34.361000+02:00",
     "start_time": "2020-05-15T10:22:34.349Z"
    },
    "hidden": true
   },
   "outputs": [
    {
     "data": {
      "text/plain": [
       "2×2 Array{Float64,2}:\n",
       " -0.799813   1.46584\n",
       " -1.50173   -0.396169"
      ]
     },
     "execution_count": 111,
     "metadata": {},
     "output_type": "execute_result"
    }
   ],
   "source": [
    "a = [1 2\n",
    "     3 4]\n",
    "randn(size(a))"
   ]
  }
 ],
 "metadata": {
  "kernelspec": {
   "display_name": "Julia 1.4.1",
   "language": "julia",
   "name": "julia-1.4"
  },
  "language_info": {
   "file_extension": ".jl",
   "mimetype": "application/julia",
   "name": "julia",
   "version": "1.4.1"
  },
  "varInspector": {
   "cols": {
    "lenName": 16,
    "lenType": 16,
    "lenVar": 40
   },
   "kernels_config": {
    "python": {
     "delete_cmd_postfix": "",
     "delete_cmd_prefix": "del ",
     "library": "var_list.py",
     "varRefreshCmd": "print(var_dic_list())"
    },
    "r": {
     "delete_cmd_postfix": ") ",
     "delete_cmd_prefix": "rm(",
     "library": "var_list.r",
     "varRefreshCmd": "cat(var_dic_list()) "
    }
   },
   "types_to_exclude": [
    "module",
    "function",
    "builtin_function_or_method",
    "instance",
    "_Feature"
   ],
   "window_display": false
  }
 },
 "nbformat": 4,
 "nbformat_minor": 4
}
