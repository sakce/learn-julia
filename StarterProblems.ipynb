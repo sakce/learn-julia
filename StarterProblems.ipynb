{
 "cells": [
  {
   "cell_type": "markdown",
   "metadata": {
    "ExecuteTime": {
     "end_time": "2020-05-14T11:22:50.978000+02:00",
     "start_time": "2020-05-14T09:22:49.425Z"
    }
   },
   "source": [
    "# Strang matrix"
   ]
  },
  {
   "cell_type": "code",
   "execution_count": null,
   "metadata": {},
   "outputs": [],
   "source": [
    "N = 5\n",
    "A = Matrix{Int64}(undef, N, N)\n",
    "\n",
    "for row in 1:N, col in 1:N\n",
    "    if row == col\n",
    "        A[row, col] = -2\n",
    "    elseif abs(row - col) < 2\n",
    "        A[row, col] = 1\n",
    "    else\n",
    "        A[row, col] = 0\n",
    "    end\n",
    "    \n",
    "    # more Julian way to do this - pretty sweet, huh?\n",
    "    # abs(i-j) <= 1 && (A[i,j] += 1)\n",
    "    # i == j && (A[i,j] -= 3)\n",
    "end\n",
    "A"
   ]
  },
  {
   "cell_type": "markdown",
   "metadata": {
    "ExecuteTime": {
     "end_time": "2020-05-14T11:23:05.231000+02:00",
     "start_time": "2020-05-14T09:23:05.230Z"
    }
   },
   "source": [
    "# Factorial Problem"
   ]
  },
  {
   "cell_type": "code",
   "execution_count": null,
   "metadata": {},
   "outputs": [],
   "source": [
    "# using Traceur\n",
    "\n",
    "function my_factorial(n::Union{Int64, BigInt}) # the union part not really needed\n",
    "    fac = one(n)\n",
    "    for i in 1:n\n",
    "        fac *= i\n",
    "    end\n",
    "    fac\n",
    "end\n",
    "\n",
    "@time my_factorial(big(200000)) # holy shit, this runs fast af hahah"
   ]
  },
  {
   "cell_type": "markdown",
   "metadata": {
    "ExecuteTime": {
     "end_time": "2020-05-14T11:23:14.071000+02:00",
     "start_time": "2020-05-14T09:23:14.070Z"
    }
   },
   "source": [
    "# Binomial"
   ]
  },
  {
   "cell_type": "code",
   "execution_count": null,
   "metadata": {},
   "outputs": [],
   "source": [
    "function binomial_rv(n::Int64, p::Float64)\n",
    "    k = zero(1)\n",
    "    n = convert(Int64, n)\n",
    "    for i in 1:n\n",
    "        rand() > p && (k += 1)\n",
    "    end\n",
    "    k / n\n",
    "end\n",
    "\n",
    "binomial_rv(1000, 0.5)"
   ]
  },
  {
   "cell_type": "code",
   "execution_count": null,
   "metadata": {},
   "outputs": [],
   "source": [
    "# using Traceur\n",
    "@trace(binomial_rv(1000, 0.5), modules=[Main]) \n",
    "# not yet sure what the output of this is, am I doing something wrong\n",
    "# with type-stability?                        "
   ]
  },
  {
   "cell_type": "markdown",
   "metadata": {},
   "source": [
    "# Monte Carlo π"
   ]
  },
  {
   "cell_type": "code",
   "execution_count": null,
   "metadata": {},
   "outputs": [],
   "source": [
    "#using Distributions\n",
    "\n",
    "function estimate_π(n::Int64)\n",
    "    p = zero(1)\n",
    "    #points = rand(Uniform(-1,1), 2, n)\n",
    "    x = rand(Uniform(-1,1), 1, n)\n",
    "    y = rand(Uniform(-1,1), 1, n)\n",
    "    for i in 1:n\n",
    "        #(points[1,i]^2 + points[2,i]^2) <= 1 && (p += 1)\n",
    "        (x[i]^2 + y[i]^2) <= 1 && (p += 1) # the prob. that the points x,y \n",
    "                                           # are in the circle (x^2 + y^2 <= 1) is π/4\n",
    "    end\n",
    "    (p / n) * 4 # p / n -> since we counted the times the condition was met, we divide by n\n",
    "                # and multiply by 4 to get π\n",
    "end\n",
    "\n",
    "estimate_π(100000)"
   ]
  },
  {
   "cell_type": "markdown",
   "metadata": {},
   "source": [
    "# Timeseries Generation problem"
   ]
  },
  {
   "cell_type": "code",
   "execution_count": null,
   "metadata": {},
   "outputs": [],
   "source": [
    "# using Plots\n",
    "\n",
    "α = [0;0.5;0.9]\n",
    "T = 200\n",
    "\n",
    "# x = zeros(T, length(α))\n",
    "# ϵ = randn(T, length(α))\n",
    "\n",
    "# for i in 2:T, j in 1:3\n",
    "#     x[i, j] = α[j] * x[i-1, j] + ϵ[i, j]\n",
    "# end\n",
    "# plot(x, label = reshape(α, 1, 3)) # missing a 0 label, easily solved with formatting it\n",
    "\n",
    "gr()\n",
    "\n",
    "series = []\n",
    "labels = []\n",
    "\n",
    "for alpha in α\n",
    "    x = zeros(T+1)\n",
    "    x[1] = 0.0\n",
    "    for t in 1:T\n",
    "        x[t+1] = alpha * x[t] + randn()\n",
    "    end\n",
    "    push!(series, x)\n",
    "    push!(labels, \"alpha = $alpha\")\n",
    "end\n",
    "plot(series, label=reshape(labels,1,length(labels)), lw = 3)"
   ]
  },
  {
   "cell_type": "markdown",
   "metadata": {
    "ExecuteTime": {
     "end_time": "2020-05-14T11:24:15.038000+02:00",
     "start_time": "2020-05-14T09:24:15.037Z"
    }
   },
   "source": [
    "# Logistic map Problem"
   ]
  },
  {
   "cell_type": "code",
   "execution_count": 40,
   "metadata": {
    "ExecuteTime": {
     "end_time": "2020-05-14T13:42:34.516000+02:00",
     "start_time": "2020-05-14T11:42:34.343Z"
    }
   },
   "outputs": [
    {
     "data": {
      "image/png": "[encoded data removed]"
     },
     "execution_count": 40,
     "metadata": {},
     "output_type": "execute_result"
    }
   ],
   "source": [
    "r = 2.9:0.001:4\n",
    "numAttract = 50\n",
    "steady = ones(length(r), 1) * .25 # intialize array that will contain series\n",
    "\n",
    "for i in 1:400\n",
    "    @. steady = r * steady * (1-steady) # broadcast the series to steady, only last column to be used\n",
    "end\n",
    "\n",
    "x = zeros(length(steady), numAttract) # empty array(matrix) which will be filled with \n",
    "                                      # numAttract following values in the series\n",
    "x[:, 1] = steady # take the stabilized column\n",
    "\n",
    "@inbounds for i in 2:numAttract\n",
    "    @. x[:,i] = r * x[:, i-1] * (1 - x[:, i-1]) # continue the series for numAttract times and broadcast to x\n",
    "end\n",
    "\n",
    "gr(fmt=:png)\n",
    "plot(collect(r), x, seriestype=:scatter, markersize = 0.002, legend = false, color=:green)"
   ]
  }
 ],
 "metadata": {
  "kernelspec": {
   "display_name": "Julia 1.4.1",
   "language": "julia",
   "name": "julia-1.4"
  },
  "language_info": {
   "file_extension": ".jl",
   "mimetype": "application/julia",
   "name": "julia",
   "version": "1.4.1"
  },
  "varInspector": {
   "cols": {
    "lenName": 16,
    "lenType": 16,
    "lenVar": 40
   },
   "kernels_config": {
    "python": {
     "delete_cmd_postfix": "",
     "delete_cmd_prefix": "del ",
     "library": "var_list.py",
     "varRefreshCmd": "print(var_dic_list())"
    },
    "r": {
     "delete_cmd_postfix": ") ",
     "delete_cmd_prefix": "rm(",
     "library": "var_list.r",
     "varRefreshCmd": "cat(var_dic_list()) "
    }
   },
   "types_to_exclude": [
    "module",
    "function",
    "builtin_function_or_method",
    "instance",
    "_Feature"
   ],
   "window_display": false
  }
 },
 "nbformat": 4,
 "nbformat_minor": 4
}
